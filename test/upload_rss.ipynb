{
 "cells": [
  {
   "cell_type": "code",
   "execution_count": 30,
   "metadata": {},
   "outputs": [],
   "source": [
    "import feedparser\n",
    "import requests"
   ]
  },
  {
   "cell_type": "code",
   "execution_count": 31,
   "metadata": {},
   "outputs": [],
   "source": [
    "def get_title(link):\n",
    "    tmp = feedparser.parse(link)\n",
    "    return tmp['feed']['title']"
   ]
  },
  {
   "cell_type": "code",
   "execution_count": 32,
   "metadata": {},
   "outputs": [],
   "source": [
    "title_link_pairs = [('央视新闻 tech', 'http://39.98.93.128:5001/cctv/tech'),\n",
    " ('AI研习社', 'http://39.98.93.128:5001/aiyanxishe/all'),\n",
    " ('X玖少年团肖战DAYTOY的微博', 'http://39.98.93.128:5001/weibo/user/1792951112'),\n",
    " ('邓香兰的微博', 'http://39.98.93.128:5001/weibo/user/6054858390'),\n",
    " ('手工耿 的 bilibili 动态',\n",
    "  'http://39.98.93.128:5001/bilibili/user/dynamic/280793434'),\n",
    " ('北京大学的微博', 'http://39.98.93.128:5001/weibo/user/3237705130'),\n",
    " ('清华大学的微博', 'http://39.98.93.128:5001/weibo/user/1676317545'),\n",
    " ('zibuyu9的知乎动态', 'http://39.98.93.128:5001/zhihu/people/activities/zibuyu9'),\n",
    " ('NGA-守望先锋', 'http://39.98.93.128:5001/nga/forum/459'),\n",
    " ('Bing每日壁纸', 'http://39.98.93.128:5001/bing'),\n",
    " ('网易公开课 - 最新课程', 'http://39.98.93.128:5001/open163/latest'),\n",
    " ('弱智吧', 'http://39.98.93.128:5001/tieba/forum/%E5%BC%B1%E6%99%BA'),\n",
    " ('起点 我老婆来自另一个地球', 'http://39.98.93.128:5001/qidian/chapter/1024803338'),\n",
    " ('新闻联播 文字版', 'http://39.98.93.128:5001/xinwenlianbo/index'),\n",
    " ('Epic 游戏限免', 'http://39.98.93.128:5001/epicgames/freegames'),\n",
    " ('IT之家-24 小时最热', 'http://39.98.93.128:5001/ithome/ranking/24h'),\n",
    " ('IT之家-7 天最热', 'http://39.98.93.128:5001/ithome/ranking/7days'),\n",
    " ('IT之家-月榜', 'http://39.98.93.128:5001/ithome/ranking/monthly'),\n",
    " ('IT 之家 - IT 资讯', 'http://39.98.93.128:5001/ithome/it'),\n",
    " ('Recent Commits to PKUReader_backend:main',\n",
    "  'https://github.com/pkuse72020/PKUReader_backend/commits/main.atom'),\n",
    " (\"pkuse72020's GitHub repositories\",\n",
    "  'http://39.98.93.128:5001/github/repos/pkuse72020')]"
   ]
  },
  {
   "cell_type": "code",
   "execution_count": 35,
   "metadata": {},
   "outputs": [
    {
     "name": "stdout",
     "output_type": "stream",
     "text": [
      "央视新闻 tech \t http://39.98.93.128:5001/cctv/tech\n",
      "AI研习社 \t http://39.98.93.128:5001/aiyanxishe/all\n",
      "X玖少年团肖战DAYTOY的微博 \t http://39.98.93.128:5001/weibo/user/1792951112\n",
      "邓香兰的微博 \t http://39.98.93.128:5001/weibo/user/6054858390\n",
      "手工耿 的 bilibili 动态 \t http://39.98.93.128:5001/bilibili/user/dynamic/280793434\n",
      "北京大学的微博 \t http://39.98.93.128:5001/weibo/user/3237705130\n",
      "清华大学的微博 \t http://39.98.93.128:5001/weibo/user/1676317545\n",
      "zibuyu9的知乎动态 \t http://39.98.93.128:5001/zhihu/people/activities/zibuyu9\n",
      "NGA-守望先锋 \t http://39.98.93.128:5001/nga/forum/459\n",
      "Bing每日壁纸 \t http://39.98.93.128:5001/bing\n",
      "网易公开课 - 最新课程 \t http://39.98.93.128:5001/open163/latest\n",
      "弱智吧 \t http://39.98.93.128:5001/tieba/forum/%E5%BC%B1%E6%99%BA\n",
      "起点 我老婆来自另一个地球 \t http://39.98.93.128:5001/qidian/chapter/1024803338\n",
      "新闻联播 文字版 \t http://39.98.93.128:5001/xinwenlianbo/index\n",
      "Epic 游戏限免 \t http://39.98.93.128:5001/epicgames/freegames\n",
      "IT之家-24 小时最热 \t http://39.98.93.128:5001/ithome/ranking/24h\n",
      "IT之家-7 天最热 \t http://39.98.93.128:5001/ithome/ranking/7days\n",
      "IT之家-月榜 \t http://39.98.93.128:5001/ithome/ranking/monthly\n",
      "IT 之家 - IT 资讯 \t http://39.98.93.128:5001/ithome/it\n",
      "Recent Commits to PKUReader_backend:main \t https://github.com/pkuse72020/PKUReader_backend/commits/main.atom\n",
      "pkuse72020's GitHub repositories \t http://39.98.93.128:5001/github/repos/pkuse72020\n"
     ]
    }
   ],
   "source": [
    "for e in title_link_pairs:\n",
    "    print(e[0],'\\t',e[1])"
   ]
  },
  {
   "cell_type": "code",
   "execution_count": 33,
   "metadata": {},
   "outputs": [],
   "source": [
    "url = 'http://39.98.93.128:5000'"
   ]
  },
  {
   "cell_type": "code",
   "execution_count": 34,
   "metadata": {},
   "outputs": [
    {
     "name": "stdout",
     "output_type": "stream",
     "text": [
      "post data:  {'rsslink': 'http://39.98.93.128:5001/cctv/tech', 'rsstitle': '央视新闻 tech'}\n",
      "response:  {'description': 'success', 'moreMsg': [{'rssId': 1, 'rsslink': 'http://39.98.93.128:5001/cctv/tech', 'rsstitle': '央视新闻 tech'}], 'state': 'success'}\n",
      "post data:  {'rsslink': 'http://39.98.93.128:5001/aiyanxishe/all', 'rsstitle': 'AI研习社'}\n",
      "response:  {'description': 'success', 'moreMsg': [{'rssId': 2, 'rsslink': 'http://39.98.93.128:5001/aiyanxishe/all', 'rsstitle': 'AI研习社'}], 'state': 'success'}\n",
      "post data:  {'rsslink': 'http://39.98.93.128:5001/weibo/user/1792951112', 'rsstitle': 'X玖少年团肖战DAYTOY的微博'}\n",
      "response:  {'description': 'success', 'moreMsg': [{'rssId': 3, 'rsslink': 'http://39.98.93.128:5001/weibo/user/1792951112', 'rsstitle': 'X玖少年团肖战DAYTOY的微博'}], 'state': 'success'}\n",
      "post data:  {'rsslink': 'http://39.98.93.128:5001/weibo/user/6054858390', 'rsstitle': '邓香兰的微博'}\n",
      "response:  {'description': 'success', 'moreMsg': [{'rssId': 4, 'rsslink': 'http://39.98.93.128:5001/weibo/user/6054858390', 'rsstitle': '邓香兰的微博'}], 'state': 'success'}\n",
      "post data:  {'rsslink': 'http://39.98.93.128:5001/bilibili/user/dynamic/280793434', 'rsstitle': '手工耿 的 bilibili 动态'}\n",
      "response:  {'description': 'success', 'moreMsg': [{'rssId': 5, 'rsslink': 'http://39.98.93.128:5001/bilibili/user/dynamic/280793434', 'rsstitle': '手工耿 的 bilibili 动态'}], 'state': 'success'}\n",
      "post data:  {'rsslink': 'http://39.98.93.128:5001/weibo/user/3237705130', 'rsstitle': '北京大学的微博'}\n",
      "response:  {'description': 'success', 'moreMsg': [{'rssId': 6, 'rsslink': 'http://39.98.93.128:5001/weibo/user/3237705130', 'rsstitle': '北京大学的微博'}], 'state': 'success'}\n",
      "post data:  {'rsslink': 'http://39.98.93.128:5001/weibo/user/1676317545', 'rsstitle': '清华大学的微博'}\n",
      "response:  {'description': 'success', 'moreMsg': [{'rssId': 7, 'rsslink': 'http://39.98.93.128:5001/weibo/user/1676317545', 'rsstitle': '清华大学的微博'}], 'state': 'success'}\n",
      "post data:  {'rsslink': 'http://39.98.93.128:5001/zhihu/people/activities/zibuyu9', 'rsstitle': 'zibuyu9的知乎动态'}\n",
      "response:  {'description': 'success', 'moreMsg': [{'rssId': 8, 'rsslink': 'http://39.98.93.128:5001/zhihu/people/activities/zibuyu9', 'rsstitle': 'zibuyu9的知乎动态'}], 'state': 'success'}\n",
      "post data:  {'rsslink': 'http://39.98.93.128:5001/nga/forum/459', 'rsstitle': 'NGA-守望先锋'}\n",
      "response:  {'description': 'success', 'moreMsg': [{'rssId': 9, 'rsslink': 'http://39.98.93.128:5001/nga/forum/459', 'rsstitle': 'NGA-守望先锋'}], 'state': 'success'}\n",
      "post data:  {'rsslink': 'http://39.98.93.128:5001/bing', 'rsstitle': 'Bing每日壁纸'}\n",
      "response:  {'description': 'success', 'moreMsg': [{'rssId': 10, 'rsslink': 'http://39.98.93.128:5001/bing', 'rsstitle': 'Bing每日壁纸'}], 'state': 'success'}\n",
      "post data:  {'rsslink': 'http://39.98.93.128:5001/open163/latest', 'rsstitle': '网易公开课 - 最新课程'}\n",
      "response:  {'description': 'success', 'moreMsg': [{'rssId': 11, 'rsslink': 'http://39.98.93.128:5001/open163/latest', 'rsstitle': '网易公开课 - 最新课程'}], 'state': 'success'}\n",
      "post data:  {'rsslink': 'http://39.98.93.128:5001/tieba/forum/%E5%BC%B1%E6%99%BA', 'rsstitle': '弱智吧'}\n",
      "response:  {'description': 'success', 'moreMsg': [{'rssId': 12, 'rsslink': 'http://39.98.93.128:5001/tieba/forum/%E5%BC%B1%E6%99%BA', 'rsstitle': '弱智吧'}], 'state': 'success'}\n",
      "post data:  {'rsslink': 'http://39.98.93.128:5001/qidian/chapter/1024803338', 'rsstitle': '起点 我老婆来自另一个地球'}\n",
      "response:  {'description': 'success', 'moreMsg': [{'rssId': 13, 'rsslink': 'http://39.98.93.128:5001/qidian/chapter/1024803338', 'rsstitle': '起点 我老婆来自另一个地球'}], 'state': 'success'}\n",
      "post data:  {'rsslink': 'http://39.98.93.128:5001/xinwenlianbo/index', 'rsstitle': '新闻联播 文字版'}\n",
      "response:  {'description': 'success', 'moreMsg': [{'rssId': 14, 'rsslink': 'http://39.98.93.128:5001/xinwenlianbo/index', 'rsstitle': '新闻联播 文字版'}], 'state': 'success'}\n",
      "post data:  {'rsslink': 'http://39.98.93.128:5001/epicgames/freegames', 'rsstitle': 'Epic 游戏限免'}\n",
      "response:  {'description': 'success', 'moreMsg': [{'rssId': 15, 'rsslink': 'http://39.98.93.128:5001/epicgames/freegames', 'rsstitle': 'Epic 游戏限免'}], 'state': 'success'}\n",
      "post data:  {'rsslink': 'http://39.98.93.128:5001/ithome/ranking/24h', 'rsstitle': 'IT之家-24 小时最热'}\n",
      "response:  {'description': 'success', 'moreMsg': [{'rssId': 16, 'rsslink': 'http://39.98.93.128:5001/ithome/ranking/24h', 'rsstitle': 'IT之家-24 小时最热'}], 'state': 'success'}\n",
      "post data:  {'rsslink': 'http://39.98.93.128:5001/ithome/ranking/7days', 'rsstitle': 'IT之家-7 天最热'}\n",
      "response:  {'description': 'success', 'moreMsg': [{'rssId': 17, 'rsslink': 'http://39.98.93.128:5001/ithome/ranking/7days', 'rsstitle': 'IT之家-7 天最热'}], 'state': 'success'}\n",
      "post data:  {'rsslink': 'http://39.98.93.128:5001/ithome/ranking/monthly', 'rsstitle': 'IT之家-月榜'}\n",
      "response:  {'description': 'success', 'moreMsg': [{'rssId': 18, 'rsslink': 'http://39.98.93.128:5001/ithome/ranking/monthly', 'rsstitle': 'IT之家-月榜'}], 'state': 'success'}\n",
      "post data:  {'rsslink': 'http://39.98.93.128:5001/ithome/it', 'rsstitle': 'IT 之家 - IT 资讯'}\n",
      "response:  {'description': 'success', 'moreMsg': [{'rssId': 19, 'rsslink': 'http://39.98.93.128:5001/ithome/it', 'rsstitle': 'IT 之家 - IT 资讯'}], 'state': 'success'}\n",
      "post data:  {'rsslink': 'https://github.com/pkuse72020/PKUReader_backend/commits/main.atom', 'rsstitle': 'Recent Commits to PKUReader_backend:main'}\n",
      "response:  {'description': 'success', 'moreMsg': [{'rssId': 20, 'rsslink': 'https://github.com/pkuse72020/PKUReader_backend/commits/main.atom', 'rsstitle': 'Recent Commits to PKUReader_backend:main'}], 'state': 'success'}\n",
      "post data:  {'rsslink': 'http://39.98.93.128:5001/github/repos/pkuse72020', 'rsstitle': \"pkuse72020's GitHub repositories\"}\n",
      "response:  {'description': 'success', 'moreMsg': [{'rssId': 21, 'rsslink': 'http://39.98.93.128:5001/github/repos/pkuse72020', 'rsstitle': \"pkuse72020's GitHub repositories\"}], 'state': 'success'}\n"
     ]
    }
   ],
   "source": [
    "for e in title_link_pairs:\n",
    "    data = {'rsslink':e[1],'rsstitle':e[0]}\n",
    "    print(\"post data: \",data)\n",
    "    response = requests.post(url + \"/rssdb/addKnownRSS\",data=data)\n",
    "    print(\"response: \",response.json())"
   ]
  },
  {
   "cell_type": "code",
   "execution_count": 36,
   "metadata": {},
   "outputs": [
    {
     "name": "stdout",
     "output_type": "stream",
     "text": [
      "{'rst': [{'rssId': 1, 'rsslink': 'http://39.98.93.128:5001/cctv/tech', 'rsstitle': '央视新闻 tech'}, {'rssId': 2, 'rsslink': 'http://39.98.93.128:5001/aiyanxishe/all', 'rsstitle': 'AI研习社'}, {'rssId': 3, 'rsslink': 'http://39.98.93.128:5001/weibo/user/1792951112', 'rsstitle': 'X玖少年团肖战DAYTOY的微博'}, {'rssId': 4, 'rsslink': 'http://39.98.93.128:5001/weibo/user/6054858390', 'rsstitle': '邓香兰的微博'}, {'rssId': 5, 'rsslink': 'http://39.98.93.128:5001/bilibili/user/dynamic/280793434', 'rsstitle': '手工耿 的 bilibili 动态'}, {'rssId': 6, 'rsslink': 'http://39.98.93.128:5001/weibo/user/3237705130', 'rsstitle': '北京大学的微博'}, {'rssId': 7, 'rsslink': 'http://39.98.93.128:5001/weibo/user/1676317545', 'rsstitle': '清华大学的微博'}, {'rssId': 8, 'rsslink': 'http://39.98.93.128:5001/zhihu/people/activities/zibuyu9', 'rsstitle': 'zibuyu9的知乎动态'}, {'rssId': 9, 'rsslink': 'http://39.98.93.128:5001/nga/forum/459', 'rsstitle': 'NGA-守望先锋'}, {'rssId': 10, 'rsslink': 'http://39.98.93.128:5001/bing', 'rsstitle': 'Bing每日壁纸'}, {'rssId': 11, 'rsslink': 'http://39.98.93.128:5001/open163/latest', 'rsstitle': '网易公开课 - 最新课程'}, {'rssId': 12, 'rsslink': 'http://39.98.93.128:5001/tieba/forum/%E5%BC%B1%E6%99%BA', 'rsstitle': '弱智吧'}, {'rssId': 13, 'rsslink': 'http://39.98.93.128:5001/qidian/chapter/1024803338', 'rsstitle': '起点 我老婆来自另一个地球'}, {'rssId': 14, 'rsslink': 'http://39.98.93.128:5001/xinwenlianbo/index', 'rsstitle': '新闻联播 文字版'}, {'rssId': 15, 'rsslink': 'http://39.98.93.128:5001/epicgames/freegames', 'rsstitle': 'Epic 游戏限免'}, {'rssId': 16, 'rsslink': 'http://39.98.93.128:5001/ithome/ranking/24h', 'rsstitle': 'IT之家-24 小时最热'}, {'rssId': 17, 'rsslink': 'http://39.98.93.128:5001/ithome/ranking/7days', 'rsstitle': 'IT之家-7 天最热'}, {'rssId': 18, 'rsslink': 'http://39.98.93.128:5001/ithome/ranking/monthly', 'rsstitle': 'IT之家-月榜'}, {'rssId': 19, 'rsslink': 'http://39.98.93.128:5001/ithome/it', 'rsstitle': 'IT 之家 - IT 资讯'}, {'rssId': 20, 'rsslink': 'https://github.com/pkuse72020/PKUReader_backend/commits/main.atom', 'rsstitle': 'Recent Commits to PKUReader_backend:main'}, {'rssId': 21, 'rsslink': 'http://39.98.93.128:5001/github/repos/pkuse72020', 'rsstitle': \"pkuse72020's GitHub repositories\"}], 'state': 'success'}\n"
     ]
    }
   ],
   "source": [
    "response = requests.post(url + \"/rssdb/getAllRSS\")\n",
    "tmp = response.json()\n",
    "print(tmp)"
   ]
  },
  {
   "cell_type": "code",
   "execution_count": 38,
   "metadata": {},
   "outputs": [
    {
     "name": "stdout",
     "output_type": "stream",
     "text": [
      "1 \t 央视新闻 tech \t http://39.98.93.128:5001/cctv/tech\n",
      "2 \t AI研习社 \t http://39.98.93.128:5001/aiyanxishe/all\n",
      "3 \t X玖少年团肖战DAYTOY的微博 \t http://39.98.93.128:5001/weibo/user/1792951112\n",
      "4 \t 邓香兰的微博 \t http://39.98.93.128:5001/weibo/user/6054858390\n",
      "5 \t 手工耿 的 bilibili 动态 \t http://39.98.93.128:5001/bilibili/user/dynamic/280793434\n",
      "6 \t 北京大学的微博 \t http://39.98.93.128:5001/weibo/user/3237705130\n",
      "7 \t 清华大学的微博 \t http://39.98.93.128:5001/weibo/user/1676317545\n",
      "8 \t zibuyu9的知乎动态 \t http://39.98.93.128:5001/zhihu/people/activities/zibuyu9\n",
      "9 \t NGA-守望先锋 \t http://39.98.93.128:5001/nga/forum/459\n",
      "10 \t Bing每日壁纸 \t http://39.98.93.128:5001/bing\n",
      "11 \t 网易公开课 - 最新课程 \t http://39.98.93.128:5001/open163/latest\n",
      "12 \t 弱智吧 \t http://39.98.93.128:5001/tieba/forum/%E5%BC%B1%E6%99%BA\n",
      "13 \t 起点 我老婆来自另一个地球 \t http://39.98.93.128:5001/qidian/chapter/1024803338\n",
      "14 \t 新闻联播 文字版 \t http://39.98.93.128:5001/xinwenlianbo/index\n",
      "15 \t Epic 游戏限免 \t http://39.98.93.128:5001/epicgames/freegames\n",
      "16 \t IT之家-24 小时最热 \t http://39.98.93.128:5001/ithome/ranking/24h\n",
      "17 \t IT之家-7 天最热 \t http://39.98.93.128:5001/ithome/ranking/7days\n",
      "18 \t IT之家-月榜 \t http://39.98.93.128:5001/ithome/ranking/monthly\n",
      "19 \t IT 之家 - IT 资讯 \t http://39.98.93.128:5001/ithome/it\n",
      "20 \t Recent Commits to PKUReader_backend:main \t https://github.com/pkuse72020/PKUReader_backend/commits/main.atom\n",
      "21 \t pkuse72020's GitHub repositories \t http://39.98.93.128:5001/github/repos/pkuse72020\n"
     ]
    }
   ],
   "source": [
    "for e in tmp['rst']:\n",
    "    print(e['rssId'],'\\t',e['rsstitle'],'\\t',e['rsslink'])"
   ]
  },
  {
   "cell_type": "code",
   "execution_count": null,
   "metadata": {},
   "outputs": [],
   "source": []
  }
 ],
 "metadata": {
  "kernelspec": {
   "display_name": "Python 3",
   "language": "python",
   "name": "python3"
  },
  "language_info": {
   "codemirror_mode": {
    "name": "ipython",
    "version": 3
   },
   "file_extension": ".py",
   "mimetype": "text/x-python",
   "name": "python",
   "nbconvert_exporter": "python",
   "pygments_lexer": "ipython3",
   "version": "3.6.12"
  }
 },
 "nbformat": 4,
 "nbformat_minor": 4
}
