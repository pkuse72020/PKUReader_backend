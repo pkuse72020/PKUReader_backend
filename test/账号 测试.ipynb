{
 "cells": [
  {
   "cell_type": "code",
   "execution_count": 1,
   "metadata": {},
   "outputs": [],
   "source": [
    "import requests"
   ]
  },
  {
   "cell_type": "code",
   "execution_count": 2,
   "metadata": {},
   "outputs": [],
   "source": [
    "url = 'http://39.98.93.128:5001'"
   ]
  },
  {
   "cell_type": "markdown",
   "metadata": {},
   "source": [
    "### 注册账号"
   ]
  },
  {
   "cell_type": "code",
   "execution_count": 3,
   "metadata": {},
   "outputs": [
    {
     "data": {
      "text/plain": [
       "{'UserId': '11567a58-3d19-11eb-a876-00163e0f2f21', 'state': 'success'}"
      ]
     },
     "execution_count": 3,
     "metadata": {},
     "output_type": "execute_result"
    }
   ],
   "source": [
    "data = {'username':'zkc_test','password':'zkc_test'}\n",
    "response = requests.post(url+\"/user/signup\",data = data)\n",
    "response.json()"
   ]
  },
  {
   "cell_type": "markdown",
   "metadata": {},
   "source": [
    "### 登录"
   ]
  },
  {
   "cell_type": "code",
   "execution_count": 8,
   "metadata": {},
   "outputs": [
    {
     "data": {
      "text/plain": [
       "{'UserId': '11567a58-3d19-11eb-a876-00163e0f2f21',\n",
       " 'state': 'success',\n",
       " 'token': 'eyJhbGciOiJIUzUxMiIsImlhdCI6MTYwNzg0NzA2MSwiZXhwIjoxNjEwNDM5MDYxfQ.eyIxMTU2N2E1OC0zZDE5LTExZWItYTg3Ni0wMDE2M2UwZjJmMjEiOiJwYmtkZjI6c2hhMjU2OjE1MDAwMCRTeldXTGJWciQ0MmE2ZmExMDc5OGUxODY2ZDMxMjUzNTE0NDVhODA1YWUyZGJlYjg5N2FiYjRkYjRiMDUxMDdlZmFmOWI1MzgzIn0.xdt7-aRxJCnUXYm8sALIfs_2l3oMyxsNA_9n-lpsNuhtUyXVvarqkKmOp7SiPkYUBDAmc_V1DPu8ADwgmzM-_Q'}"
      ]
     },
     "execution_count": 8,
     "metadata": {},
     "output_type": "execute_result"
    }
   ],
   "source": [
    "data = {'username':'zkc_test','password':'zkc_test'}\n",
    "response = requests.post(url+\"/user/login\",data = data)\n",
    "response.json()"
   ]
  },
  {
   "cell_type": "code",
   "execution_count": 13,
   "metadata": {},
   "outputs": [
    {
     "data": {
      "text/plain": [
       "'username=zkc_test&password=zkc_test'"
      ]
     },
     "execution_count": 13,
     "metadata": {},
     "output_type": "execute_result"
    }
   ],
   "source": [
    "response.request.body"
   ]
  },
  {
   "cell_type": "code",
   "execution_count": null,
   "metadata": {},
   "outputs": [],
   "source": []
  }
 ],
 "metadata": {
  "kernelspec": {
   "display_name": "Python 3",
   "language": "python",
   "name": "python3"
  },
  "language_info": {
   "codemirror_mode": {
    "name": "ipython",
    "version": 3
   },
   "file_extension": ".py",
   "mimetype": "text/x-python",
   "name": "python",
   "nbconvert_exporter": "python",
   "pygments_lexer": "ipython3",
   "version": "3.6.12"
  }
 },
 "nbformat": 4,
 "nbformat_minor": 4
}
