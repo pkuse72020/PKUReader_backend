{
 "cells": [
  {
   "cell_type": "markdown",
   "metadata": {},
   "source": [
    "# userFavor测试"
   ]
  },
  {
   "cell_type": "code",
   "execution_count": 2,
   "metadata": {},
   "outputs": [],
   "source": [
    "import requests"
   ]
  },
  {
   "cell_type": "markdown",
   "metadata": {},
   "source": [
    "### getAllFavor"
   ]
  },
  {
   "cell_type": "code",
   "execution_count": 3,
   "metadata": {},
   "outputs": [],
   "source": [
    "url = 'http://39.98.93.128:5001'"
   ]
  },
  {
   "cell_type": "code",
   "execution_count": 4,
   "metadata": {},
   "outputs": [
    {
     "data": {
      "text/plain": [
       "{'article': [], 'rss': []}"
      ]
     },
     "execution_count": 4,
     "metadata": {},
     "output_type": "execute_result"
    }
   ],
   "source": [
    "data = {}\n",
    "response = requests.post( url+\"/userfavor/getAllFavor\",data=data)\n",
    "response.json()"
   ]
  },
  {
   "cell_type": "markdown",
   "metadata": {},
   "source": [
    "### addFavorArticle"
   ]
  },
  {
   "cell_type": "code",
   "execution_count": 4,
   "metadata": {},
   "outputs": [
    {
     "data": {
      "text/plain": [
       "{'description': 'success',\n",
       " 'moreMsg': [{'_Id': 1, 'articleId': 996, 'userId': 'test_user1'}],\n",
       " 'state': 'success'}"
      ]
     },
     "execution_count": 4,
     "metadata": {},
     "output_type": "execute_result"
    }
   ],
   "source": [
    "data = {'userId':'test_user1','articleId':'996'}\n",
    "response = requests.post(url+\"/userfavor/addFavorArticle\",data=data)\n",
    "response.json()"
   ]
  },
  {
   "cell_type": "markdown",
   "metadata": {},
   "source": [
    "### getFavorArticle"
   ]
  },
  {
   "cell_type": "code",
   "execution_count": 19,
   "metadata": {},
   "outputs": [
    {
     "data": {
      "text/plain": [
       "{'rst': [], 'state': 'success'}"
      ]
     },
     "execution_count": 19,
     "metadata": {},
     "output_type": "execute_result"
    }
   ],
   "source": [
    "data = {'userId':'test_user1'}\n",
    "response = requests.post(url+\"/userfavor/getFavorArticle\",data=data)\n",
    "response.json()"
   ]
  },
  {
   "cell_type": "markdown",
   "metadata": {},
   "source": [
    "### removeFavorArticle"
   ]
  },
  {
   "cell_type": "code",
   "execution_count": 11,
   "metadata": {
    "scrolled": true
   },
   "outputs": [
    {
     "data": {
      "text/plain": [
       "{'description': 'success', 'state': 'success'}"
      ]
     },
     "execution_count": 11,
     "metadata": {},
     "output_type": "execute_result"
    }
   ],
   "source": [
    "data = {'userId':'test_user1','articleId':'996'}\n",
    "response = requests.post(url+\"/userfavor/removeFavorArticle\",data=data)\n",
    "response.json()"
   ]
  },
  {
   "cell_type": "markdown",
   "metadata": {},
   "source": [
    "### addFavorRSS"
   ]
  },
  {
   "cell_type": "code",
   "execution_count": 13,
   "metadata": {
    "scrolled": true
   },
   "outputs": [
    {
     "data": {
      "text/plain": [
       "{'description': 'success',\n",
       " 'moreMsg': [{'_Id': 9, 'rssId': 5, 'userId': 'test_user2'}],\n",
       " 'state': 'success'}"
      ]
     },
     "execution_count": 13,
     "metadata": {},
     "output_type": "execute_result"
    }
   ],
   "source": [
    "data = {'userId':'test_user2','RSSId':'5'}\n",
    "response = requests.post(url+\"/userfavor/addFavorRSS\",data=data)\n",
    "response.json()"
   ]
  },
  {
   "cell_type": "markdown",
   "metadata": {},
   "source": [
    "### getFavorRSS"
   ]
  },
  {
   "cell_type": "code",
   "execution_count": 20,
   "metadata": {},
   "outputs": [
    {
     "data": {
      "text/plain": [
       "{'rst': [{'_Id': 2, 'rssId': 2, 'userId': 'test_user1'},\n",
       "  {'_Id': 3, 'rssId': 5, 'userId': 'test_user1'},\n",
       "  {'_Id': 4, 'rssId': 6, 'userId': 'test_user1'},\n",
       "  {'_Id': 5, 'rssId': 7, 'userId': 'test_user1'},\n",
       "  {'_Id': 6, 'rssId': 10, 'userId': 'test_user1'}],\n",
       " 'state': 'success'}"
      ]
     },
     "execution_count": 20,
     "metadata": {},
     "output_type": "execute_result"
    }
   ],
   "source": [
    "data = {'userId':'test_user1'}\n",
    "response = requests.post(url+\"/userfavor/getFavorRSS\",data=data)\n",
    "response.json()"
   ]
  },
  {
   "cell_type": "code",
   "execution_count": null,
   "metadata": {},
   "outputs": [],
   "source": []
  },
  {
   "cell_type": "markdown",
   "metadata": {},
   "source": [
    "### userGetFavorRSS_links"
   ]
  },
  {
   "cell_type": "markdown",
   "metadata": {},
   "source": [
    "先增加点knownRSS"
   ]
  },
  {
   "cell_type": "code",
   "execution_count": 25,
   "metadata": {},
   "outputs": [
    {
     "data": {
      "text/plain": [
       "{'rst': [{'rssId': 2,\n",
       "   'rsslink': 'https://rss.injahow.cn/zhihu/hotlist',\n",
       "   'rsstitle': 'zhihu/hotlist'},\n",
       "  {'rssId': 3,\n",
       "   'rsslink': 'https://rss.injahow.cn/weibo/user/1157864602',\n",
       "   'rsstitle': 'weibo/user/1157864602'},\n",
       "  {'rssId': 4,\n",
       "   'rsslink': 'https://rss.injahow.cn/weibo/user/1974576991',\n",
       "   'rsstitle': 'weibo/user/1974576991'},\n",
       "  {'rssId': 5,\n",
       "   'rsslink': 'https://rss.injahow.cn/people/opinion/223228',\n",
       "   'rsstitle': 'people/opinion/223228'},\n",
       "  {'rssId': 6,\n",
       "   'rsslink': 'https://rss.injahow.cn/weibo/user/1263131357',\n",
       "   'rsstitle': 'weibo/user/1263131357'},\n",
       "  {'rssId': 7,\n",
       "   'rsslink': 'https://rss.injahow.cn/weibo/user/3936311567',\n",
       "   'rsstitle': 'weibo/user/3936311567'},\n",
       "  {'rssId': 8,\n",
       "   'rsslink': 'https://rss.injahow.cn/weibo/user/1664207987',\n",
       "   'rsstitle': 'weibo/user/1664207987'},\n",
       "  {'rssId': 9,\n",
       "   'rsslink': 'https://rss.injahow.cn/weibo/user/5649624264',\n",
       "   'rsstitle': 'weibo/user/5649624264'},\n",
       "  {'rssId': 10,\n",
       "   'rsslink': 'https://rss.injahow.cn/weibo/user/7264589101',\n",
       "   'rsstitle': 'weibo/user/7264589101'},\n",
       "  {'rssId': 11,\n",
       "   'rsslink': 'https://rss.injahow.cn/weibo/user/2822691430',\n",
       "   'rsstitle': 'weibo/user/2822691430'},\n",
       "  {'rssId': 12,\n",
       "   'rsslink': 'https://rss.injahow.cn/zhihu/people/activities/warfalcon',\n",
       "   'rsstitle': 'zhihu/people/activities/warfalcon'},\n",
       "  {'rssId': 13,\n",
       "   'rsslink': 'https://rss.injahow.cn/weibo/user/1989660417',\n",
       "   'rsstitle': 'weibo/user/1989660417'},\n",
       "  {'rssId': 14,\n",
       "   'rsslink': 'https://rss.injahow.cn/zhihu/people/activities/shao-shu-pai-46',\n",
       "   'rsstitle': 'zhihu/people/activities/shao-shu-pai-46'},\n",
       "  {'rssId': 15,\n",
       "   'rsslink': 'https://rss.injahow.cn/zhihu/people/activities/mu-rong-chen-xi',\n",
       "   'rsstitle': 'zhihu/people/activities/mu-rong-chen-xi'},\n",
       "  {'rssId': 16,\n",
       "   'rsslink': 'https://rss.injahow.cn/zhihu/people/activities/lao-ba-ping-ce',\n",
       "   'rsstitle': 'zhihu/people/activities/lao-ba-ping-ce'},\n",
       "  {'rssId': 17,\n",
       "   'rsslink': 'https://rss.injahow.cn/zhihu/people/activities/evenstar',\n",
       "   'rsstitle': 'zhihu/people/activities/evenstar'},\n",
       "  {'rssId': 18,\n",
       "   'rsslink': 'https://rss.injahow.cn/zhihu/people/activities/ningnanshan',\n",
       "   'rsstitle': 'zhihu/people/activities/ningnanshan'},\n",
       "  {'rssId': 19,\n",
       "   'rsslink': 'https://rss.injahow.cn/zhihu/people/activities/shenggouzi',\n",
       "   'rsstitle': 'zhihu/people/activities/shenggouzi'},\n",
       "  {'rssId': 20,\n",
       "   'rsslink': 'http://news.baidu.com/n?cmd=1&class=civilnews&tn=rss',\n",
       "   'rsstitle': 'baidu'}],\n",
       " 'state': 'success'}"
      ]
     },
     "execution_count": 25,
     "metadata": {},
     "output_type": "execute_result"
    }
   ],
   "source": [
    "# for e in range(20):    \n",
    "#     data = {'rsslink':'www.bilibili.com' + str(e),'rsstitle':'bilibili' + str(e)}\n",
    "#     response = requests.post(\"http://127.0.0.1:5000/rssdb/addKnownRSS\",data=data)\n",
    "#     response.json()\n",
    "response = requests.post(url + \"/rssdb/getAllRSS\")\n",
    "response.json()"
   ]
  },
  {
   "cell_type": "code",
   "execution_count": 23,
   "metadata": {},
   "outputs": [
    {
     "data": {
      "text/plain": [
       "{'rst': [{'_Id': 2,\n",
       "   'rsslink': 'https://rss.injahow.cn/zhihu/hotlist',\n",
       "   'rsstitle': 'zhihu/hotlist',\n",
       "   'userId': 'test_user1'},\n",
       "  {'_Id': 3,\n",
       "   'rsslink': 'https://rss.injahow.cn/people/opinion/223228',\n",
       "   'rsstitle': 'people/opinion/223228',\n",
       "   'userId': 'test_user1'},\n",
       "  {'_Id': 4,\n",
       "   'rsslink': 'https://rss.injahow.cn/weibo/user/1263131357',\n",
       "   'rsstitle': 'weibo/user/1263131357',\n",
       "   'userId': 'test_user1'},\n",
       "  {'_Id': 5,\n",
       "   'rsslink': 'https://rss.injahow.cn/weibo/user/3936311567',\n",
       "   'rsstitle': 'weibo/user/3936311567',\n",
       "   'userId': 'test_user1'},\n",
       "  {'_Id': 6,\n",
       "   'rsslink': 'https://rss.injahow.cn/weibo/user/7264589101',\n",
       "   'rsstitle': 'weibo/user/7264589101',\n",
       "   'userId': 'test_user1'}],\n",
       " 'state': 'success'}"
      ]
     },
     "execution_count": 23,
     "metadata": {},
     "output_type": "execute_result"
    }
   ],
   "source": [
    "data = {'userId':'test_user1'}\n",
    "response = requests.post(url+\"/userfavor/getFavorRSSlinks\",data=data)\n",
    "response.json()"
   ]
  },
  {
   "cell_type": "markdown",
   "metadata": {},
   "source": [
    "### removeFavorRSS"
   ]
  },
  {
   "cell_type": "code",
   "execution_count": 123,
   "metadata": {},
   "outputs": [
    {
     "data": {
      "text/plain": [
       "{'description': \"third query failed with errors: Class 'builtins.NoneType' is not mapped\",\n",
       " 'state': 'failed'}"
      ]
     },
     "execution_count": 123,
     "metadata": {},
     "output_type": "execute_result"
    }
   ],
   "source": [
    "data = {'userId':'test_user1','RSSId':'11'}\n",
    "response = requests.post(\"http://127.0.0.1:5000/userfavor/removeFavorRSS\",data=data)\n",
    "response.json()"
   ]
  },
  {
   "cell_type": "code",
   "execution_count": null,
   "metadata": {},
   "outputs": [],
   "source": []
  },
  {
   "cell_type": "code",
   "execution_count": null,
   "metadata": {},
   "outputs": [],
   "source": []
  }
 ],
 "metadata": {
  "kernelspec": {
   "display_name": "Python 3",
   "language": "python",
   "name": "python3"
  },
  "language_info": {
   "codemirror_mode": {
    "name": "ipython",
    "version": 3
   },
   "file_extension": ".py",
   "mimetype": "text/x-python",
   "name": "python",
   "nbconvert_exporter": "python",
   "pygments_lexer": "ipython3",
   "version": "3.6.12"
  }
 },
 "nbformat": 4,
 "nbformat_minor": 4
}
