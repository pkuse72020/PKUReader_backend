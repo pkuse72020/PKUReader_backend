{
 "cells": [
  {
   "cell_type": "code",
   "execution_count": 59,
   "metadata": {
    "collapsed": true
   },
   "outputs": [
    {
     "data": {
      "text/plain": "b'<!DOCTYPE HTML PUBLIC \"-//W3C//DTD HTML 3.2 Final//EN\">\\n<title>405 Method Not Allowed</title>\\n<h1>Method Not Allowed</h1>\\n<p>The method is not allowed for the requested URL.</p>\\n'"
     },
     "execution_count": 59,
     "metadata": {},
     "output_type": "execute_result"
    }
   ],
   "source": [
    "import requests\n",
    "data = {}\n",
    "response = requests.post(\"http://127.0.0.1:5000/content\", data=data)\n",
    "response.text\n",
    "response.content"
   ]
  },
  {
   "cell_type": "code",
   "execution_count": 60,
   "outputs": [
    {
     "data": {
      "text/plain": "{'UserId': '22828208-3d41-11eb-b92f-ac2b6eac239d', 'state': 'success'}"
     },
     "execution_count": 60,
     "metadata": {},
     "output_type": "execute_result"
    }
   ],
   "source": [
    "user1 = {'username': 'testuser1', 'password': '12345678'}\n",
    "user2 = {'username': 'testuser2', 'password': '12345678'}\n",
    "\n",
    "response = requests.post(\"http://127.0.0.1:5000/user/signup\", data=user1)\n",
    "response = requests.post(\"http://127.0.0.1:5000/user/signup\", data=user2)\n",
    "response.json()"
   ],
   "metadata": {
    "collapsed": false,
    "pycharm": {
     "name": "#%%\n"
    }
   }
  },
  {
   "cell_type": "code",
   "execution_count": 61,
   "outputs": [
    {
     "data": {
      "text/plain": "{'article_list': [{'article': ' Under the mountain, as when first I knew Its low dark roof, and chimney creeper-twined, The red house stands; and yet my footsteps find Vague in the walks, waste balm and fever few. But they are gone: no soft-eyed sisters trip Across the porch or lintels; where, behind, The mother sat,—sat knitting with pursed lip. The house stands vacant in its green recess, Absent of beauty as a broken heart; The wild rain enters, and the sunset wind Sighs in the chambers of their loveliness, Or shakes the pane; and in the silent noons, The glass falls from the window, part by part, And ringeth faintly in the grassy stones. © by owner. provided at no charge for educational purposes    ',\n   'id': '959de6c2-2f6f-4ba9-a68f-1a677b1b9f04',\n   'title': '\"Under the mountain...\"'},\n  {'article': \"i carry your heart with me (i carry it in my heart) i am never without it (anywhere i go you go, my dear; and whatever is done by only me is your doing, my darling) \\xa0 \\xa0 \\xa0 \\xa0 \\xa0 \\xa0 \\xa0 \\xa0 \\xa0 \\xa0 \\xa0 \\xa0 \\xa0 \\xa0 \\xa0 \\xa0 \\xa0 i fear no fate (for you are my fate, my sweet) i want no world (for beautiful you are my world, my true) and it's you are whatever a moon has always meant and whatever a sun will always sing is you  here is the deepest secret nobody knows (here is the root of the root and the bud of the bud and the sky of the sky of a tree called life; which grows higher than soul can hope or mind can hide) and this is the wonder that's keeping the stars apart  i carry your heart (i carry it in my heart)  © by owner. provided at no charge for educational purposes     \",\n   'id': 'c1614922-eaa0-4d2f-9b95-298596ace3a0',\n   'title': 'i carry your heart with me'},\n  {'article': ' The guttersnipe and the albatross  gliding for days without a single wingbeat  were equally beyond me.  \\xa0  I yearned for the gannet\\'s strike,  the unbegrudging concentration  of the heron.  \\xa0  In the camaraderie of rookeries,  in the spiteful vigilance of colonies  I was at home.  \\xa0  I learned to distrust  the allure of the cuckoo  and the gossip of starlings,  \\xa0  kept faith with doughty bullfinches,  leveled my wit too often  to the small-minded wren  \\xa0  and too often caved in  to the pathos of waterhens  and panicky corncrakes.  \\xa0  I gave much credence to stragglers,  overrated the composure of blackbirds  and the folklore of magpies.  \\xa0  But when goldfinch or kingfisher rent  the veil of the usual,  pinions whispered and braced  \\xa0  as I stooped, unwieldy  and brimming,  my spurs\\xa0at the ready. from Sweeney Redivivus  from \"Station Island\" (1984) © by owner. provided at no charge for educational purposes    ',\n   'id': 'e4e96f6a-4b50-4089-a09c-45c081a314aa',\n   'title': 'Drifting Off'},\n  {'article': ' I imagine this midnight moment\\'s forest: Something else is alive Beside the clock\\'s loneliness And this blank page where my fingers move. Through the window I see no star: Something more near Though deeper within darkness Is entering the loneliness: Cold, delicately as the dark snow A fox\\'s nose touches twig, leaf; Two eyes serve a movement, that now And again now, and now, and now Sets neat prints into the snow Between trees, and warily a lame Shadow lags by stump and in hollow Of a body that is bold to come Across clearings, an eye, A widening deepening greenness, Brilliantly, concentratedly, Coming about its own business Till, with a sudden sharp hot stink of fox It enters the dark hole of the head. The window is starless still; the clock ticks, The page is printed. This flaming fox appeared to Hughes in a memorable dream in which it entered Hughes’s room on two feet and walked across his still unfinished essay, leaving a burning paw-print on the paper before turning to Hughes and saying, “You are killing us.\" © by owner. provided at no charge for educational purposes     ',\n   'id': '8395eec2-fb11-46bd-9a08-9a9b6527359e',\n   'title': 'The Thought-Fox'},\n  {'article': 'As on all its sides a kitchen-match darts white  flickering tongues before it bursts into flame:  with the audience around her, quickened, hot,  her dance begins to flicker in the dark room.   And all at once it is completely fire.   One upward glance and she ignites her hair  and, whirling faster and faster, fans her dress  into passionate flames, till it becomes a furnace  from which, like startled rattlesnakes, the long  naked arms uncoil, aroused and clicking.   And then: as if the fire were too tight  around her body, she takes and flings it out  haughtily, with an imperious gesture,  and watches: it lies raging on the floor,  still blazing up, and the flames refuse to die -  Till, moving with total confidence and a sweet  exultant smile, she looks up finally  and stamps it out with powerful small feet. © by owner. provided at no charge for educational purposes    ',\n   'id': '577deef6-6773-4b9b-8da0-377e7c4a7994',\n   'title': 'The Spanish Dancer'},\n  {'article': '序章',\n   'id': '11840a17-eb94-47ed-8b9a-9ba3e2307515',\n   'title': '序章'},\n  {'article': '1.开始于大矛盾',\n   'id': '711326f8-fba8-4452-8515-f829a01ce36a',\n   'title': '1.开始于大矛盾'},\n  {'article': '2.TUNER&NOISE',\n   'id': 'b921faec-4b1c-426c-aee6-4d737dcbc754',\n   'title': '2.TUNER&NOISE'},\n  {'article': '3.红魔法少女',\n   'id': 'cb27d5d7-e2ac-40b3-b2d2-70c43be44d3b',\n   'title': '3.红魔法少女'},\n  {'article': '4.邪恶的躁音',\n   'id': 'a8029488-b1b9-4be9-998e-e22558ee59d7',\n   'title': '4.邪恶的躁音'}],\n 'state': 'success'}"
     },
     "execution_count": 61,
     "metadata": {},
     "output_type": "execute_result"
    }
   ],
   "source": [
    "import requests\n",
    "data = {'username': 'testuser1'}\n",
    "response = requests.post(\"http://127.0.0.1:5000/content/getArticles\", data)\n",
    "response.json()\n",
    "\n",
    "\n",
    "\n"
   ],
   "metadata": {
    "collapsed": false,
    "pycharm": {
     "name": "#%%\n"
    }
   }
  },
  {
   "cell_type": "code",
   "execution_count": 58,
   "outputs": [
    {
     "data": {
      "text/plain": "{'result': '{\\n  \"took\": 872,\\n  \"timed_out\": false,\\n  \"_shards\": {\\n    \"total\": 1,\\n    \"successful\": 1,\\n    \"skipped\": 0,\\n    \"failed\": 0\\n  },\\n  \"hits\": {\\n    \"total\": {\\n      \"value\": 3,\\n      \"relation\": \"eq\"\\n    },\\n    \"max_score\": 4.0131946,\\n    \"hits\": [\\n      {\\n        \"_index\": \"news\",\\n        \"_type\": \"news\",\\n        \"_id\": \"qAcOXHYBRQMLbcAqhjgD\",\\n        \"_score\": 4.0131946,\\n        \"_source\": {\\n          \"title\": \"3.红魔法少女\",\\n          \"article\": \"3.红魔法少女\",\\n          \"id\": \"9e8db269-c1d4-4c75-b186-a5249ddb20ca\"\\n        }\\n      },\\n      {\\n        \"_index\": \"news\",\\n        \"_type\": \"news\",\\n        \"_id\": \"sgcbXHYBRQMLbcAq-TjH\",\\n        \"_score\": 4.0131946,\\n        \"_source\": {\\n          \"title\": \"3.红魔法少女\",\\n          \"article\": \"3.红魔法少女\",\\n          \"id\": \"d530eb29-a317-4e98-a4a5-f1fe44b9c85c\"\\n        }\\n      },\\n      {\\n        \"_index\": \"news\",\\n        \"_type\": \"news\",\\n        \"_id\": \"vAcgXHYBRQMLbcAqeTie\",\\n        \"_score\": 4.0131946,\\n        \"_source\": {\\n          \"title\": \"3.红魔法少女\",\\n          \"article\": \"3.红魔法少女\",\\n          \"id\": \"72114c48-6890-4c31-80bb-85bf5ae0d317\"\\n        }\\n      }\\n    ]\\n  }\\n}',\n 'state': 'success'}"
     },
     "execution_count": 58,
     "metadata": {},
     "output_type": "execute_result"
    }
   ],
   "source": [
    "data = {'searchword': '少女'}\n",
    "import requests\n",
    "response=requests.post(\"http://127.0.0.1:5000/content/search\", data)\n",
    "response.json()\n"
   ],
   "metadata": {
    "collapsed": false,
    "pycharm": {
     "name": "#%%\n"
    }
   }
  }
 ],
 "metadata": {
  "kernelspec": {
   "name": "pycharm-85db8fa9",
   "language": "python",
   "display_name": "PyCharm (PKUReader_backend)"
  },
  "language_info": {
   "codemirror_mode": {
    "name": "ipython",
    "version": 2
   },
   "file_extension": ".py",
   "mimetype": "text/x-python",
   "name": "python",
   "nbconvert_exporter": "python",
   "pygments_lexer": "ipython2",
   "version": "2.7.6"
  }
 },
 "nbformat": 4,
 "nbformat_minor": 0
}