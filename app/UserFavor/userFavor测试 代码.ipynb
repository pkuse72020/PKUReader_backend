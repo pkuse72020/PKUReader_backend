{
 "cells": [
  {
   "cell_type": "markdown",
   "metadata": {},
   "source": [
    "# userFavor测试"
   ]
  },
  {
   "cell_type": "code",
   "execution_count": 1,
   "metadata": {},
   "outputs": [],
   "source": [
    "import requests"
   ]
  },
  {
   "cell_type": "markdown",
   "metadata": {},
   "source": [
    "### getAllFavor"
   ]
  },
  {
   "cell_type": "code",
   "execution_count": 2,
   "metadata": {},
   "outputs": [],
   "source": [
    "url = 'http://39.98.93.128:5001'"
   ]
  },
  {
   "cell_type": "code",
   "execution_count": 8,
   "metadata": {
    "pycharm": {
     "name": "#%%\n"
    }
   },
   "outputs": [
    {
     "data": {
      "text/plain": [
       "{'article': [{'_Id': 1, 'articleId': 996, 'userId': 'test_user1'}], 'rss': []}"
      ]
     },
     "execution_count": 8,
     "metadata": {},
     "output_type": "execute_result"
    }
   ],
   "source": [
    "data = {}\n",
    "response = requests.post( url+\"/userfavor/getAllFavor\",data=data)\n",
    "response.json()"
   ]
  },
  {
   "cell_type": "markdown",
   "metadata": {
    "pycharm": {
     "name": "#%% md\n"
    }
   },
   "source": [
    "### addFavorArticle"
   ]
  },
  {
   "cell_type": "code",
   "execution_count": 4,
   "metadata": {
    "pycharm": {
     "name": "#%%\n"
    }
   },
   "outputs": [
    {
     "data": {
      "text/plain": [
       "{'description': 'success',\n",
       " 'moreMsg': [{'_Id': 1, 'articleId': 996, 'userId': 'test_user1'}],\n",
       " 'state': 'success'}"
      ]
     },
     "execution_count": 4,
     "metadata": {},
     "output_type": "execute_result"
    }
   ],
   "source": [
    "data = {'userId':'test_user1','articleId':'996'}\n",
    "response = requests.post(url+\"/userfavor/addFavorArticle\",data=data)\n",
    "response.json()"
   ]
  },
  {
   "cell_type": "markdown",
   "metadata": {
    "pycharm": {
     "name": "#%% md\n"
    }
   },
   "source": [
    "### getFavorArticle"
   ]
  },
  {
   "cell_type": "code",
   "execution_count": 10,
   "metadata": {
    "pycharm": {
     "name": "#%%\n"
    }
   },
   "outputs": [
    {
     "data": {
      "text/plain": [
       "{'rst': [{'_Id': 1, 'articleId': 996, 'userId': 'test_user1'}],\n",
       " 'state': 'success'}"
      ]
     },
     "execution_count": 10,
     "metadata": {},
     "output_type": "execute_result"
    }
   ],
   "source": [
    "data = {'userId':'test_user1'}\n",
    "response = requests.post(url+\"/userfavor/getFavorArticle\",data=data)\n",
    "response.json()"
   ]
  },
  {
   "cell_type": "markdown",
   "metadata": {
    "pycharm": {
     "name": "#%% md\n"
    }
   },
   "source": [
    "### removeFavorArticle"
   ]
  },
  {
   "cell_type": "code",
   "execution_count": 11,
   "metadata": {
    "scrolled": true,
    "pycharm": {
     "name": "#%%\n"
    }
   },
   "outputs": [
    {
     "data": {
      "text/plain": [
       "{'description': 'success', 'state': 'success'}"
      ]
     },
     "execution_count": 11,
     "metadata": {},
     "output_type": "execute_result"
    }
   ],
   "source": [
    "data = {'userId':'test_user1','articleId':'996'}\n",
    "response = requests.post(url+\"/userfavor/removeFavorArticle\",data=data)\n",
    "response.json()"
   ]
  },
  {
   "cell_type": "markdown",
   "metadata": {
    "pycharm": {
     "name": "#%% md\n"
    }
   },
   "source": [
    "### addFavorRSS"
   ]
  },
  {
   "cell_type": "code",
   "execution_count": 25,
   "metadata": {
    "scrolled": true,
    "pycharm": {
     "name": "#%%\n"
    }
   },
   "outputs": [
    {
     "data": {
      "text/plain": [
       "{'description': 'success',\n",
       " 'moreMsg': [{'_Id': 8, 'rssId': 15, 'userId': 'test_user1'}],\n",
       " 'state': 'success'}"
      ]
     },
     "execution_count": 25,
     "metadata": {},
     "output_type": "execute_result"
    }
   ],
   "source": [
    "data = {'userId':'test_user1','RSSId':'15'}\n",
    "response = requests.post(url+\"/userfavor/addFavorRSS\",data=data)\n",
    "response.json()"
   ]
  },
  {
   "cell_type": "markdown",
   "metadata": {
    "pycharm": {
     "name": "#%% md\n"
    }
   },
   "source": [
    "### getFavorRSS"
   ]
  },
  {
   "cell_type": "code",
   "execution_count": 17,
   "metadata": {},
   "outputs": [
    {
     "data": {
      "text/plain": [
       "{'rst': [{'_Id': 2, 'rssId': 1, 'userId': 'test_user1'}], 'state': 'success'}"
      ]
     },
     "execution_count": 17,
     "metadata": {},
     "output_type": "execute_result"
    }
   ],
   "source": [
    "data = {'userId':'test_user1'}\n",
    "response = requests.post(url+\"/userfavor/getFavorRSS\",data=data)\n",
    "response.json()"
   ]
  },
  {
   "cell_type": "code",
   "execution_count": null,
   "metadata": {
    "pycharm": {
     "name": "#%%\n"
    }
   },
   "outputs": [],
   "source": []
  },
  {
   "cell_type": "markdown",
   "metadata": {},
   "source": [
    "### userGetFavorRSS_links"
   ]
  },
  {
   "cell_type": "markdown",
   "metadata": {
    "pycharm": {
     "name": "#%% md\n"
    }
   },
   "source": [
    "先增加点knownRSS"
   ]
  },
  {
   "cell_type": "code",
   "execution_count": 126,
   "metadata": {},
   "outputs": [
    {
     "data": {
      "text/plain": [
       "{'rst': [{'rssId': 1, 'rsslink': 'www.baidu.com', 'rsstitle': 'baidu'},\n",
       "  {'rssId': 2, 'rsslink': 'www.bilibili.com0', 'rsstitle': 'bilibili0'},\n",
       "  {'rssId': 3, 'rsslink': 'www.bilibili.com1', 'rsstitle': 'bilibili1'},\n",
       "  {'rssId': 4, 'rsslink': 'www.bilibili.com2', 'rsstitle': 'bilibili2'},\n",
       "  {'rssId': 5, 'rsslink': 'www.bilibili.com3', 'rsstitle': 'bilibili3'},\n",
       "  {'rssId': 6, 'rsslink': 'www.bilibili.com4', 'rsstitle': 'bilibili4'},\n",
       "  {'rssId': 7, 'rsslink': 'www.bilibili.com5', 'rsstitle': 'bilibili5'},\n",
       "  {'rssId': 8, 'rsslink': 'www.bilibili.com6', 'rsstitle': 'bilibili6'},\n",
       "  {'rssId': 9, 'rsslink': 'www.bilibili.com7', 'rsstitle': 'bilibili7'},\n",
       "  {'rssId': 10, 'rsslink': 'www.bilibili.com8', 'rsstitle': 'bilibili8'},\n",
       "  {'rssId': 11, 'rsslink': 'www.bilibili.com9', 'rsstitle': 'bilibili9'},\n",
       "  {'rssId': 12, 'rsslink': 'www.bilibili.com10', 'rsstitle': 'bilibili10'},\n",
       "  {'rssId': 13, 'rsslink': 'www.bilibili.com11', 'rsstitle': 'bilibili11'},\n",
       "  {'rssId': 14, 'rsslink': 'www.bilibili.com12', 'rsstitle': 'bilibili12'},\n",
       "  {'rssId': 15, 'rsslink': 'www.bilibili.com13', 'rsstitle': 'bilibili13'},\n",
       "  {'rssId': 16, 'rsslink': 'www.bilibili.com14', 'rsstitle': 'bilibili14'},\n",
       "  {'rssId': 17, 'rsslink': 'www.bilibili.com15', 'rsstitle': 'bilibili15'},\n",
       "  {'rssId': 18, 'rsslink': 'www.bilibili.com16', 'rsstitle': 'bilibili16'},\n",
       "  {'rssId': 19, 'rsslink': 'www.bilibili.com17', 'rsstitle': 'bilibili17'},\n",
       "  {'rssId': 20, 'rsslink': 'www.bilibili.com18', 'rsstitle': 'bilibili18'},\n",
       "  {'rssId': 21, 'rsslink': 'www.bilibili.com19', 'rsstitle': 'bilibili19'}],\n",
       " 'state': 'success'}"
      ]
     },
     "execution_count": 126,
     "metadata": {},
     "output_type": "execute_result"
    }
   ],
   "source": [
    "for e in range(20):    \n",
    "    data = {'rsslink':'www.bilibili.com' + str(e),'rsstitle':'bilibili' + str(e)}\n",
    "    response = requests.post(\"http://127.0.0.1:5000/rssdb/addKnownRSS\",data=data)\n",
    "    response.json()\n",
    "response = requests.post(\"http://127.0.0.1:5000/rssdb/getAllRSS\")\n",
    "response.json()"
   ]
  },
  {
   "cell_type": "code",
   "execution_count": null,
   "outputs": [],
   "source": [
    "data = {'userId':'test_user1'}\n",
    "response = requests.post(url+\"/userfavor/getFavorRSSlinks\",data=data)\n",
    "response.json()"
   ],
   "metadata": {
    "collapsed": false,
    "pycharm": {
     "name": "#%%\n"
    }
   }
  },
  {
   "cell_type": "code",
   "execution_count": 26,
   "metadata": {},
   "outputs": [
    {
     "data": {
      "text/plain": [
       "{'rst': [{'_Id': 2,\n",
       "   'rsslink': 'https://rss.injahow.cn/zhihu/people/activities/li-xi-mo-66',\n",
       "   'rsstitle': 'zhihu/people/activities/li-xi-mo-66',\n",
       "   'userId': 'test_user1'},\n",
       "  {'_Id': 3,\n",
       "   'rsslink': 'https://rss.injahow.cn/zhihu/hotlist',\n",
       "   'rsstitle': 'zhihu/hotlist',\n",
       "   'userId': 'test_user1'},\n",
       "  {'_Id': 4,\n",
       "   'rsslink': 'https://rss.injahow.cn/weibo/user/1157864602',\n",
       "   'rsstitle': 'weibo/user/1157864602',\n",
       "   'userId': 'test_user1'},\n",
       "  {'_Id': 5,\n",
       "   'rsslink': 'https://rss.injahow.cn/people/opinion/223228',\n",
       "   'rsstitle': 'people/opinion/223228',\n",
       "   'userId': 'test_user1'},\n",
       "  {'_Id': 6,\n",
       "   'rsslink': 'https://rss.injahow.cn/weibo/user/5649624264',\n",
       "   'rsstitle': 'weibo/user/5649624264',\n",
       "   'userId': 'test_user1'},\n",
       "  {'_Id': 7,\n",
       "   'rsslink': 'https://rss.injahow.cn/weibo/user/7264589101',\n",
       "   'rsstitle': 'weibo/user/7264589101',\n",
       "   'userId': 'test_user1'},\n",
       "  {'_Id': 8,\n",
       "   'rsslink': 'https://rss.injahow.cn/zhihu/people/activities/mu-rong-chen-xi',\n",
       "   'rsstitle': 'zhihu/people/activities/mu-rong-chen-xi',\n",
       "   'userId': 'test_user1'}],\n",
       " 'state': 'success'}"
      ]
     },
     "execution_count": 26,
     "metadata": {},
     "output_type": "execute_result"
    }
   ],
   "source": [
    "### removeFavorRSS"
   ]
  },
  {
   "cell_type": "markdown",
   "metadata": {},
   "source": [
    "### removeFavorRSS"
   ]
  },
  {
   "cell_type": "code",
   "execution_count": 123,
   "metadata": {},
   "outputs": [
    {
     "data": {
      "text/plain": [
       "{'description': \"third query failed with errors: Class 'builtins.NoneType' is not mapped\",\n",
       " 'state': 'failed'}"
      ]
     },
     "execution_count": 123,
     "metadata": {},
     "output_type": "execute_result"
    }
   ],
   "source": [
    "data = {'userId':'test_user1','RSSId':'11'}\n",
    "response = requests.post(\"http://127.0.0.1:5000/userfavor/removeFavorRSS\",data=data)\n",
    "response.json()"
   ]
  },
  {
   "cell_type": "code",
   "execution_count": null,
   "metadata": {},
   "outputs": [],
   "source": []
  },
  {
   "cell_type": "code",
   "execution_count": null,
   "metadata": {},
   "outputs": [],
   "source": []
  }
 ],
 "metadata": {
  "kernelspec": {
   "display_name": "Python 3",
   "language": "python",
   "name": "python3"
  },
  "language_info": {
   "codemirror_mode": {
    "name": "ipython",
    "version": 3
   },
   "file_extension": ".py",
   "mimetype": "text/x-python",
   "name": "python",
   "nbconvert_exporter": "python",
   "pygments_lexer": "ipython3",
   "version": "3.6.12"
  }
 },
 "nbformat": 4,
 "nbformat_minor": 4
}