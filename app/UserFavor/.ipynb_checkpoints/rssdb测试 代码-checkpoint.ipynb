{
 "cells": [
  {
   "cell_type": "markdown",
   "metadata": {},
   "source": [
    "# userFavor测试"
   ]
  },
  {
   "cell_type": "code",
   "execution_count": 84,
   "metadata": {},
   "outputs": [],
   "source": [
    "import requests"
   ]
  },
  {
   "cell_type": "markdown",
   "metadata": {},
   "source": [
    "### getAllFavor"
   ]
  },
  {
   "cell_type": "code",
   "execution_count": 116,
   "metadata": {},
   "outputs": [
    {
     "data": {
      "text/plain": [
       "{'article': [{'_Id': 2, 'articleId': 997, 'userId': 'test_user1'},\n",
       "  {'_Id': 3, 'articleId': 997, 'userId': 'test_user2'},\n",
       "  {'_Id': 4, 'articleId': 996, 'userId': 'test_user1'}],\n",
       " 'rss': [{'_Id': 1, 'rssId': 12, 'userId': 'test_user1'},\n",
       "  {'_Id': 2, 'rssId': 11, 'userId': 'test_user1'},\n",
       "  {'_Id': 3, 'rssId': 11, 'userId': 'test_user2'}]}"
      ]
     },
     "execution_count": 116,
     "metadata": {},
     "output_type": "execute_result"
    }
   ],
   "source": [
    "data = {}\n",
    "response = requests.post(\"http://127.0.0.1:5000/userfavor/getAllFavor\",data=data)\n",
    "response.json()"
   ]
  },
  {
   "cell_type": "markdown",
   "metadata": {},
   "source": [
    "### addFavorArticle"
   ]
  },
  {
   "cell_type": "code",
   "execution_count": 109,
   "metadata": {},
   "outputs": [
    {
     "data": {
      "text/plain": [
       "{'description': 'success',\n",
       " 'moreMsg': [{'_Id': 4, 'articleId': 996, 'userId': 'test_user1'}],\n",
       " 'state': 'success'}"
      ]
     },
     "execution_count": 109,
     "metadata": {},
     "output_type": "execute_result"
    }
   ],
   "source": [
    "data = {'userId':'test_user1','articleId':'996'}\n",
    "response = requests.post(\"http://127.0.0.1:5000/userfavor/addFavorArticle\",data=data)\n",
    "response.json()"
   ]
  },
  {
   "cell_type": "markdown",
   "metadata": {},
   "source": [
    "### getFavorArticle"
   ]
  },
  {
   "cell_type": "code",
   "execution_count": 103,
   "metadata": {},
   "outputs": [
    {
     "data": {
      "text/plain": [
       "{'rst': [{'_Id': 2, 'articleId': 997, 'userId': 'test_user1'},\n",
       "  {'_Id': 4, 'articleId': 996, 'userId': 'test_user1'}],\n",
       " 'state': 'success'}"
      ]
     },
     "execution_count": 103,
     "metadata": {},
     "output_type": "execute_result"
    }
   ],
   "source": [
    "data = {'userId':'test_user1'}\n",
    "response = requests.post(\"http://127.0.0.1:5000/userfavor/getFavorArticle\",data=data)\n",
    "response.json()"
   ]
  },
  {
   "cell_type": "markdown",
   "metadata": {},
   "source": [
    "### removeFavorArticle"
   ]
  },
  {
   "cell_type": "code",
   "execution_count": 106,
   "metadata": {
    "scrolled": true
   },
   "outputs": [
    {
     "data": {
      "text/plain": [
       "{'description': \"third query failed with errors: Class 'builtins.NoneType' is not mapped\",\n",
       " 'state': 'failed'}"
      ]
     },
     "execution_count": 106,
     "metadata": {},
     "output_type": "execute_result"
    }
   ],
   "source": [
    "data = {'userId':'test_user1','articleId':'996'}\n",
    "response = requests.post(\"http://127.0.0.1:5000/userfavor/removeFavorArticle\",data=data)\n",
    "response.json()"
   ]
  },
  {
   "cell_type": "markdown",
   "metadata": {},
   "source": [
    "### addFavorRSS"
   ]
  },
  {
   "cell_type": "code",
   "execution_count": 133,
   "metadata": {
    "scrolled": true
   },
   "outputs": [
    {
     "data": {
      "text/plain": [
       "{'description': 'success',\n",
       " 'moreMsg': [{'_Id': 5, 'rssId': 15, 'userId': 'test_user2'}],\n",
       " 'state': 'success'}"
      ]
     },
     "execution_count": 133,
     "metadata": {},
     "output_type": "execute_result"
    }
   ],
   "source": [
    "data = {'userId':'test_user2','RSSId':'15'}\n",
    "response = requests.post(\"http://127.0.0.1:5000/userfavor/addFavorRSS\",data=data)\n",
    "response.json()"
   ]
  },
  {
   "cell_type": "markdown",
   "metadata": {},
   "source": [
    "### getFavorRSS"
   ]
  },
  {
   "cell_type": "code",
   "execution_count": 134,
   "metadata": {},
   "outputs": [
    {
     "data": {
      "text/plain": [
       "{'rst': [{'_Id': 3, 'rssId': 11, 'userId': 'test_user2'},\n",
       "  {'_Id': 4, 'rssId': 13, 'userId': 'test_user2'},\n",
       "  {'_Id': 5, 'rssId': 15, 'userId': 'test_user2'}],\n",
       " 'state': 'success'}"
      ]
     },
     "execution_count": 134,
     "metadata": {},
     "output_type": "execute_result"
    }
   ],
   "source": [
    "data = {'userId':'test_user2'}\n",
    "response = requests.post(\"http://127.0.0.1:5000/userfavor/getFavorRSS\",data=data)\n",
    "response.json()"
   ]
  },
  {
   "cell_type": "code",
   "execution_count": null,
   "metadata": {},
   "outputs": [],
   "source": []
  },
  {
   "cell_type": "markdown",
   "metadata": {},
   "source": [
    "### userGetFavorRSS_links"
   ]
  },
  {
   "cell_type": "markdown",
   "metadata": {},
   "source": [
    "先增加点knownRSS"
   ]
  },
  {
   "cell_type": "code",
   "execution_count": 126,
   "metadata": {},
   "outputs": [
    {
     "data": {
      "text/plain": [
       "{'rst': [{'rssId': 1, 'rsslink': 'www.baidu.com', 'rsstitle': 'baidu'},\n",
       "  {'rssId': 2, 'rsslink': 'www.bilibili.com0', 'rsstitle': 'bilibili0'},\n",
       "  {'rssId': 3, 'rsslink': 'www.bilibili.com1', 'rsstitle': 'bilibili1'},\n",
       "  {'rssId': 4, 'rsslink': 'www.bilibili.com2', 'rsstitle': 'bilibili2'},\n",
       "  {'rssId': 5, 'rsslink': 'www.bilibili.com3', 'rsstitle': 'bilibili3'},\n",
       "  {'rssId': 6, 'rsslink': 'www.bilibili.com4', 'rsstitle': 'bilibili4'},\n",
       "  {'rssId': 7, 'rsslink': 'www.bilibili.com5', 'rsstitle': 'bilibili5'},\n",
       "  {'rssId': 8, 'rsslink': 'www.bilibili.com6', 'rsstitle': 'bilibili6'},\n",
       "  {'rssId': 9, 'rsslink': 'www.bilibili.com7', 'rsstitle': 'bilibili7'},\n",
       "  {'rssId': 10, 'rsslink': 'www.bilibili.com8', 'rsstitle': 'bilibili8'},\n",
       "  {'rssId': 11, 'rsslink': 'www.bilibili.com9', 'rsstitle': 'bilibili9'},\n",
       "  {'rssId': 12, 'rsslink': 'www.bilibili.com10', 'rsstitle': 'bilibili10'},\n",
       "  {'rssId': 13, 'rsslink': 'www.bilibili.com11', 'rsstitle': 'bilibili11'},\n",
       "  {'rssId': 14, 'rsslink': 'www.bilibili.com12', 'rsstitle': 'bilibili12'},\n",
       "  {'rssId': 15, 'rsslink': 'www.bilibili.com13', 'rsstitle': 'bilibili13'},\n",
       "  {'rssId': 16, 'rsslink': 'www.bilibili.com14', 'rsstitle': 'bilibili14'},\n",
       "  {'rssId': 17, 'rsslink': 'www.bilibili.com15', 'rsstitle': 'bilibili15'},\n",
       "  {'rssId': 18, 'rsslink': 'www.bilibili.com16', 'rsstitle': 'bilibili16'},\n",
       "  {'rssId': 19, 'rsslink': 'www.bilibili.com17', 'rsstitle': 'bilibili17'},\n",
       "  {'rssId': 20, 'rsslink': 'www.bilibili.com18', 'rsstitle': 'bilibili18'},\n",
       "  {'rssId': 21, 'rsslink': 'www.bilibili.com19', 'rsstitle': 'bilibili19'}],\n",
       " 'state': 'success'}"
      ]
     },
     "execution_count": 126,
     "metadata": {},
     "output_type": "execute_result"
    }
   ],
   "source": [
    "for e in range(20):    \n",
    "    data = {'rsslink':'www.bilibili.com' + str(e),'rsstitle':'bilibili' + str(e)}\n",
    "    response = requests.post(\"http://127.0.0.1:5000/rssdb/addKnownRSS\",data=data)\n",
    "    response.json()\n",
    "response = requests.post(\"http://127.0.0.1:5000/rssdb/getAllRSS\")\n",
    "response.json()"
   ]
  },
  {
   "cell_type": "code",
   "execution_count": 135,
   "metadata": {},
   "outputs": [
    {
     "data": {
      "text/plain": [
       "{'rst': [{'_Id': 3,\n",
       "   'rsslink': 'www.bilibili.com9',\n",
       "   'rsstitle': 'bilibili9',\n",
       "   'userId': 'test_user2'},\n",
       "  {'_Id': 4,\n",
       "   'rsslink': 'www.bilibili.com11',\n",
       "   'rsstitle': 'bilibili11',\n",
       "   'userId': 'test_user2'},\n",
       "  {'_Id': 5,\n",
       "   'rsslink': 'www.bilibili.com13',\n",
       "   'rsstitle': 'bilibili13',\n",
       "   'userId': 'test_user2'}],\n",
       " 'state': 'success'}"
      ]
     },
     "execution_count": 135,
     "metadata": {},
     "output_type": "execute_result"
    }
   ],
   "source": [
    "data = {'userId':'test_user2'}\n",
    "response = requests.post(\"http://127.0.0.1:5000/userfavor/getFavorRSSlinks\",data=data)\n",
    "response.json()"
   ]
  },
  {
   "cell_type": "markdown",
   "metadata": {},
   "source": [
    "### removeFavorRSS"
   ]
  },
  {
   "cell_type": "code",
   "execution_count": 123,
   "metadata": {},
   "outputs": [
    {
     "data": {
      "text/plain": [
       "{'description': \"third query failed with errors: Class 'builtins.NoneType' is not mapped\",\n",
       " 'state': 'failed'}"
      ]
     },
     "execution_count": 123,
     "metadata": {},
     "output_type": "execute_result"
    }
   ],
   "source": [
    "data = {'userId':'test_user1','RSSId':'11'}\n",
    "response = requests.post(\"http://127.0.0.1:5000/userfavor/removeFavorRSS\",data=data)\n",
    "response.json()"
   ]
  },
  {
   "cell_type": "code",
   "execution_count": null,
   "metadata": {},
   "outputs": [],
   "source": []
  },
  {
   "cell_type": "code",
   "execution_count": null,
   "metadata": {},
   "outputs": [],
   "source": []
  }
 ],
 "metadata": {
  "kernelspec": {
   "display_name": "Python 3",
   "language": "python",
   "name": "python3"
  },
  "language_info": {
   "codemirror_mode": {
    "name": "ipython",
    "version": 3
   },
   "file_extension": ".py",
   "mimetype": "text/x-python",
   "name": "python",
   "nbconvert_exporter": "python",
   "pygments_lexer": "ipython3",
   "version": "3.6.12"
  }
 },
 "nbformat": 4,
 "nbformat_minor": 4
}
