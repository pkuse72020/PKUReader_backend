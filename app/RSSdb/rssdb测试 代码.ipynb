{
 "cells": [
  {
   "cell_type": "markdown",
   "metadata": {},
   "source": [
    "# rssdb测试"
   ]
  },
  {
   "cell_type": "code",
   "execution_count": 1,
   "metadata": {},
   "outputs": [],
   "source": [
    "import requests"
   ]
  },
  {
   "cell_type": "code",
   "execution_count": 3,
   "metadata": {
    "pycharm": {
     "name": "#%%\n"
    }
   },
   "outputs": [],
   "source": [
    "url = 'http://39.98.93.128:5001'"
   ]
  },
  {
   "cell_type": "markdown",
   "metadata": {
    "pycharm": {
     "name": "#%% md\n"
    }
   },
   "source": [
    "### getPendingMsg"
   ]
  },
  {
   "cell_type": "code",
   "execution_count": 4,
   "metadata": {},
   "outputs": [],
   "source": [
    "data = None"
   ]
  },
  {
   "cell_type": "code",
   "execution_count": 28,
   "metadata": {
    "pycharm": {
     "name": "#%%\n"
    }
   },
   "outputs": [
    {
     "data": {
      "text/plain": [
       "{'rst': [], 'state': 'success'}"
      ]
     },
     "execution_count": 28,
     "metadata": {},
     "output_type": "execute_result"
    }
   ],
   "source": [
    "response = requests.post(url+\"/rssdb/getPendingMsg\")\n",
    "response.json()"
   ]
  },
  {
   "cell_type": "markdown",
   "metadata": {
    "pycharm": {
     "name": "#%% md\n"
    }
   },
   "source": [
    "### addPendingMsg"
   ]
  },
  {
   "cell_type": "code",
   "execution_count": 63,
   "metadata": {
    "pycharm": {
     "name": "#%%\n"
    }
   },
   "outputs": [
    {
     "data": {
      "text/plain": [
       "{'description': 'success',\n",
       " 'moreMsg': [{'_Id': 11,\n",
       "   'checkedByAdministrator': 'None',\n",
       "   'rsslink': 'www.baid1u.com',\n",
       "   'rsstitle': 'baidu1',\n",
       "   'userId': 'test_user1'}],\n",
       " 'state': 'success'}"
      ]
     },
     "execution_count": 63,
     "metadata": {},
     "output_type": "execute_result"
    }
   ],
   "source": [
    "data = {'userId':'test_user1','rsstitle':'baidu1','rsslink':'www.baid1u.com'}\n",
    "response = requests.post(\"http://127.0.0.1:5000/rssdb/addPendingMsg\",data=data)\n",
    "response.json()"
   ]
  },
  {
   "cell_type": "markdown",
   "metadata": {
    "pycharm": {
     "name": "#%% md\n"
    }
   },
   "source": [
    "### approvePendingMsg"
   ]
  },
  {
   "cell_type": "code",
   "execution_count": 30,
   "metadata": {
    "pycharm": {
     "name": "#%%\n"
    }
   },
   "outputs": [
    {
     "data": {
      "text/plain": [
       "{'description': 'first query no existed', 'state': 'failed'}"
      ]
     },
     "execution_count": 30,
     "metadata": {},
     "output_type": "execute_result"
    }
   ],
   "source": [
    "data = {'administratorId':'test_admin','pendingMsg_id':11}\n",
    "response = requests.post(url+\"/rssdb/approvePendingMsg\",data=data)\n",
    "response.json()"
   ]
  },
  {
   "cell_type": "markdown",
   "metadata": {
    "pycharm": {
     "name": "#%% md\n"
    }
   },
   "source": [
    "### rejectPendingMsg"
   ]
  },
  {
   "cell_type": "code",
   "execution_count": 59,
   "metadata": {
    "pycharm": {
     "name": "#%%\n"
    }
   },
   "outputs": [
    {
     "data": {
      "text/plain": [
       "{'description': 'first query no existed', 'state': 'failed'}"
      ]
     },
     "execution_count": 59,
     "metadata": {},
     "output_type": "execute_result"
    }
   ],
   "source": [
    "data = {'administratorId':'test_admin','pendingMsg_id':7}\n",
    "response = requests.post(\"http://127.0.0.1:5000/rssdb/rejectPendingMsg\",data=data)\n",
    "response.json()"
   ]
  },
  {
   "cell_type": "markdown",
   "metadata": {
    "pycharm": {
     "name": "#%% md\n"
    }
   },
   "source": [
    "### getAllRSS"
   ]
  },
  {
   "cell_type": "code",
   "execution_count": 36,
   "metadata": {
    "pycharm": {
     "name": "#%%\n"
    }
   },
   "outputs": [
    {
     "data": {
      "text/plain": [
       "{'rst': [{'rssId': 1,\n",
       "   'rsslink': 'https://rss.injahow.cn/zhihu/people/activities/li-xi-mo-66',\n",
       "   'rsstitle': 'zhihu/people/activities/li-xi-mo-66'},\n",
       "  {'rssId': 2,\n",
       "   'rsslink': 'https://rss.injahow.cn/zhihu/hotlist',\n",
       "   'rsstitle': 'zhihu/hotlist'},\n",
       "  {'rssId': 3,\n",
       "   'rsslink': 'https://rss.injahow.cn/weibo/user/1157864602',\n",
       "   'rsstitle': 'weibo/user/1157864602'},\n",
       "  {'rssId': 4,\n",
       "   'rsslink': 'https://rss.injahow.cn/weibo/user/1974576991',\n",
       "   'rsstitle': 'weibo/user/1974576991'},\n",
       "  {'rssId': 5,\n",
       "   'rsslink': 'https://rss.injahow.cn/people/opinion/223228',\n",
       "   'rsstitle': 'people/opinion/223228'},\n",
       "  {'rssId': 6,\n",
       "   'rsslink': 'https://rss.injahow.cn/weibo/user/1263131357',\n",
       "   'rsstitle': 'weibo/user/1263131357'},\n",
       "  {'rssId': 7,\n",
       "   'rsslink': 'https://rss.injahow.cn/weibo/user/3936311567',\n",
       "   'rsstitle': 'weibo/user/3936311567'},\n",
       "  {'rssId': 8,\n",
       "   'rsslink': 'https://rss.injahow.cn/weibo/user/1664207987',\n",
       "   'rsstitle': 'weibo/user/1664207987'},\n",
       "  {'rssId': 9,\n",
       "   'rsslink': 'https://rss.injahow.cn/weibo/user/5649624264',\n",
       "   'rsstitle': 'weibo/user/5649624264'},\n",
       "  {'rssId': 10,\n",
       "   'rsslink': 'https://rss.injahow.cn/weibo/user/7264589101',\n",
       "   'rsstitle': 'weibo/user/7264589101'},\n",
       "  {'rssId': 11,\n",
       "   'rsslink': 'https://rss.injahow.cn/weibo/user/2822691430',\n",
       "   'rsstitle': 'weibo/user/2822691430'},\n",
       "  {'rssId': 12,\n",
       "   'rsslink': 'https://rss.injahow.cn/zhihu/people/activities/warfalcon',\n",
       "   'rsstitle': 'zhihu/people/activities/warfalcon'},\n",
       "  {'rssId': 13,\n",
       "   'rsslink': 'https://rss.injahow.cn/weibo/user/1989660417',\n",
       "   'rsstitle': 'weibo/user/1989660417'},\n",
       "  {'rssId': 14,\n",
       "   'rsslink': 'https://rss.injahow.cn/zhihu/people/activities/shao-shu-pai-46',\n",
       "   'rsstitle': 'zhihu/people/activities/shao-shu-pai-46'},\n",
       "  {'rssId': 15,\n",
       "   'rsslink': 'https://rss.injahow.cn/zhihu/people/activities/mu-rong-chen-xi',\n",
       "   'rsstitle': 'zhihu/people/activities/mu-rong-chen-xi'},\n",
       "  {'rssId': 16,\n",
       "   'rsslink': 'https://rss.injahow.cn/zhihu/people/activities/lao-ba-ping-ce',\n",
       "   'rsstitle': 'zhihu/people/activities/lao-ba-ping-ce'},\n",
       "  {'rssId': 17,\n",
       "   'rsslink': 'https://rss.injahow.cn/zhihu/people/activities/evenstar',\n",
       "   'rsstitle': 'zhihu/people/activities/evenstar'},\n",
       "  {'rssId': 18,\n",
       "   'rsslink': 'https://rss.injahow.cn/zhihu/people/activities/ningnanshan',\n",
       "   'rsstitle': 'zhihu/people/activities/ningnanshan'},\n",
       "  {'rssId': 19,\n",
       "   'rsslink': 'https://rss.injahow.cn/zhihu/people/activities/shenggouzi',\n",
       "   'rsstitle': 'zhihu/people/activities/shenggouzi'}],\n",
       " 'state': 'success'}"
      ]
     },
     "execution_count": 36,
     "metadata": {},
     "output_type": "execute_result"
    }
   ],
   "source": [
    "data = {}\n",
    "response = requests.post(url+\"/rssdb/getAllRSS\")\n",
    "response.json()"
   ]
  },
  {
   "cell_type": "markdown",
   "metadata": {
    "pycharm": {
     "name": "#%% md\n"
    }
   },
   "source": [
    "### addKnownRSS"
   ]
  },
  {
   "cell_type": "code",
   "execution_count": null,
   "metadata": {
    "pycharm": {
     "name": "#%%\n"
    }
   },
   "outputs": [],
   "source": []
  },
  {
   "cell_type": "code",
   "execution_count": 33,
   "metadata": {},
   "outputs": [],
   "source": [
    "rsslinks = [\"https://rss.injahow.cn/zhihu/people/activities/li-xi-mo-66\",\"https://rss.injahow.cn/zhihu/hotlist\",\"https://rss.injahow.cn/weibo/user/1157864602\",\"https://rss.injahow.cn/weibo/user/1974576991\",\"https://rss.injahow.cn/people/opinion/223228\",\"https://rss.injahow.cn/weibo/user/1263131357\",\"https://rss.injahow.cn/weibo/user/3936311567\",\"https://rss.injahow.cn/weibo/user/1664207987\",\"https://rss.injahow.cn/weibo/user/5649624264\",\"https://rss.injahow.cn/weibo/user/7264589101\",\"https://rss.injahow.cn/weibo/user/2822691430\",\"https://rss.injahow.cn/zhihu/people/activities/warfalcon\",\"https://rss.injahow.cn/weibo/user/1989660417\",\"https://rss.injahow.cn/zhihu/people/activities/shao-shu-pai-46\",\"https://rss.injahow.cn/zhihu/people/activities/mu-rong-chen-xi\",\"https://rss.injahow.cn/zhihu/people/activities/lao-ba-ping-ce\",\"https://rss.injahow.cn/zhihu/people/activities/evenstar\",\"https://rss.injahow.cn/zhihu/people/activities/ningnanshan\",\"https://rss.injahow.cn/zhihu/people/activities/shenggouzi\"]"
   ]
  },
  {
   "cell_type": "code",
   "execution_count": null,
   "outputs": [],
   "source": [
    "for e in rsslinks:\n",
    "    data = {'rsslink':e,'rsstitle':e.replace(\"https://rss.injahow.cn/\",\"\")}\n",
    "    response = requests.post(url + \"/rssdb/addKnownRSS\",data=data)\n",
    "    print(response.json())"
   ],
   "metadata": {
    "collapsed": false,
    "pycharm": {
     "name": "#%%\n"
    }
   }
  },
  {
   "cell_type": "code",
   "execution_count": null,
   "outputs": [],
   "source": [
    "data = {'rsslink':'www.bilibili.com','rsstitle':'bilibili'}\n",
    "response = requests.post(\"http://127.0.0.1:5000/rssdb/addKnownRSS\",data=data)\n",
    "response.json()"
   ],
   "metadata": {
    "collapsed": false,
    "pycharm": {
     "name": "#%%\n"
    }
   }
  },
  {
   "cell_type": "markdown",
   "source": [
    "### removeKnownRSS"
   ],
   "metadata": {
    "collapsed": false
   }
  },
  {
   "cell_type": "code",
   "execution_count": null,
   "outputs": [],
   "source": [
    "data = {'rssId':2}\n",
    "response = requests.post(url+\"/rssdb/removeKnownRSS\",data=data)\n",
    "response.json()"
   ],
   "metadata": {
    "collapsed": false,
    "pycharm": {
     "name": "#%%\n"
    }
   }
  },
  {
   "cell_type": "code",
   "execution_count": null,
   "outputs": [],
   "source": [],
   "metadata": {
    "collapsed": false,
    "pycharm": {
     "name": "#%%\n"
    }
   }
  },
  {
   "cell_type": "code",
   "execution_count": null,
   "outputs": [],
   "source": [],
   "metadata": {
    "collapsed": false,
    "pycharm": {
     "name": "#%%\n"
    }
   }
  },
  {
   "cell_type": "code",
   "execution_count": null,
   "outputs": [],
   "source": [
    "import requests\n",
    "data = {'txt':'<p>\\u3000\\u3000记者 马爱平</p><p>\\u3000\\u3000菜篮子、米袋子是关乎国计民生的基础工程，中国是蔬菜生产大国，同时也是蔬菜消费大国。</p><p>\\u3000\\u300011月22日，在“线上菜篮子·中国优质蔬菜产业发展”研讨会上，农业农村部乡村振兴专家咨询委委员、原农业部常务副部长尹成杰认为，将蔬菜的线下生产与线上菜篮子发展相结合，是现代农产品流通体系里的一种重要形式，通过线上形式把蔬菜快捷、高效、安全地送到消费者手中，是一种流通新业态，同时可以带动乡村劳动力就业、助力乡村振兴和城乡经济融合一体化。</p><p>\\u3000\\u3000<strong>线上线下会撞出怎样的火花</strong></p><p>\\u3000\\u3000“电商平台，利用现代信息技术，加快建立农产品现代化营销体系，以新模式、新业态和新经验把生产者和消费者连接在一起，带动蔬菜生产和产业发展，在扶贫攻坚、乡村振兴，农业农村现代化建设上发挥了很好的作用。”尹成杰说。</p><p>\\u3000\\u3000山东省寿光市被誉为中国“蔬菜之乡”。寿光市委副书记李永光说，寿光蔬菜目前拥有16个国家地理标志产品，定期发布中国寿光蔬菜价格指数，蔬菜品牌发展水平处于全国领先地位。近年来更专注于蔬菜产业与电商的深度融合发展，与拼多多联合启动“线上菜博会”，在拼多多上线寿光蔬菜馆，还与多多大学签约，加速培育蔬菜电商人才。</p><p>\\u3000\\u3000“将新电商的新技术、新逻辑、新业态带到中国广大乡村的田间地头，能够有力助力脱贫攻坚接续乡村振兴。”拼多多副总裁狄拉克说。</p><p>\\u3000\\u3000农业农村部农产品质量安全中心首席专家李清泽认为，山东寿光等国内蔬菜优势产区与第一大农产品上行平台拼多多，可运用现代化信息技术手段，加强产品标准化、品牌化的建设，“单品驱动、年年滚动、各方联动”，走出一条线上线下融合的新路径。</p><p>\\u3000\\u3000中国农村专业技术协会理事长、中国农业大学原校长柯炳生建议，电商平台可从蔬菜需求特点、蔬菜流通要素出发，结合网络追溯机制、消费者画像等现代信息技术手段，解决人民群众需求与蔬菜产区供需不平衡、流通环节质量损耗及由于生产要素不稳定产生的标准化问题等。</p><p>\\u3000<strong>\\u3000协同各类主体补齐新模式短板</strong></p><p>\\u3000\\u3000蔬菜产业发展一头是“脚上沾泥”的生产者，另一头是追求性价比的消费者。</p><p>\\u3000\\u3000中国农业科学院农产品加工研究所所长王凤忠在电商平台上做了关于农产品购买的小调研。他提出，新模式在成长过程中，自然会产生一些新问题，比如非标化、流通损耗等。那么在这一过程里，蔬菜生产、流通全供应链上的各方主体有必要协同补足标准化、冷链等短板。</p><p>\\u3000\\u3000“在仓储、物流过程中，如何保证最后一公里的配送，保证食物品质及质量安全，是目前蔬菜流通领域面临的问题之一。”中国农业大学食品学院原院长、特殊食品研究中心主任罗云波说。对此，国家发改委农村经济司原司长高俊才建议，在新基建的大形势下，政府和企业要共同努力，抓好、做强冷链物流建设。</p><p>\\u3000\\u3000中国农业科学院蔬菜花卉研究所研究员刘富中也建议，在把农村蔬菜销往城市的过程中，可以通过建设绿色生产方式、绿色溯源系统解决当前部分问题，电商平台等流通体系的主体，可与农业农村部的标准化生产基地、优质农产品基地、出口农产品基地进行对接，让消费者吃到放心菜、优质菜。同时，农业农村部食物与营养发展研究所植物食物与营养政策研究中心负责人黄家章也建议，电商平台要明确准入门槛，引导蔬菜产业优质化、营养化。</p>'}\n",
    "response = requests.post(url + \"/nlp/tokenizer\", data = data)\n",
    "response.json()"
   ],
   "metadata": {
    "collapsed": false,
    "pycharm": {
     "name": "#%%\n"
    }
   }
  },
  {
   "cell_type": "code",
   "execution_count": null,
   "outputs": [],
   "source": [
    "import requests\n",
    "data = {'txt':'<p>\\u3000\\u3000记者 马爱平</p><p>\\u3000\\u3000菜篮子、米袋子是关乎国计民生的基础工程，中国是蔬菜生产大国，同时也是蔬菜消费大国。</p><p>\\u3000\\u300011月22日，在“线上菜篮子·中国优质蔬菜产业发展”研讨会上，农业农村部乡村振兴专家咨询委委员、原农业部常务副部长尹成杰认为，将蔬菜的线下生产与线上菜篮子发展相结合，是现代农产品流通体系里的一种重要形式，通过线上形式把蔬菜快捷、高效、安全地送到消费者手中，是一种流通新业态，同时可以带动乡村劳动力就业、助力乡村振兴和城乡经济融合一体化。</p><p>\\u3000\\u3000<strong>线上线下会撞出怎样的火花</strong></p><p>\\u3000\\u3000“电商平台，利用现代信息技术，加快建立农产品现代化营销体系，以新模式、新业态和新经验把生产者和消费者连接在一起，带动蔬菜生产和产业发展，在扶贫攻坚、乡村振兴，农业农村现代化建设上发挥了很好的作用。”尹成杰说。</p><p>\\u3000\\u3000山东省寿光市被誉为中国“蔬菜之乡”。寿光市委副书记李永光说，寿光蔬菜目前拥有16个国家地理标志产品，定期发布中国寿光蔬菜价格指数，蔬菜品牌发展水平处于全国领先地位。近年来更专注于蔬菜产业与电商的深度融合发展，与拼多多联合启动“线上菜博会”，在拼多多上线寿光蔬菜馆，还与多多大学签约，加速培育蔬菜电商人才。</p><p>\\u3000\\u3000“将新电商的新技术、新逻辑、新业态带到中国广大乡村的田间地头，能够有力助力脱贫攻坚接续乡村振兴。”拼多多副总裁狄拉克说。</p><p>\\u3000\\u3000农业农村部农产品质量安全中心首席专家李清泽认为，山东寿光等国内蔬菜优势产区与第一大农产品上行平台拼多多，可运用现代化信息技术手段，加强产品标准化、品牌化的建设，“单品驱动、年年滚动、各方联动”，走出一条线上线下融合的新路径。</p><p>\\u3000\\u3000中国农村专业技术协会理事长、中国农业大学原校长柯炳生建议，电商平台可从蔬菜需求特点、蔬菜流通要素出发，结合网络追溯机制、消费者画像等现代信息技术手段，解决人民群众需求与蔬菜产区供需不平衡、流通环节质量损耗及由于生产要素不稳定产生的标准化问题等。</p><p>\\u3000<strong>\\u3000协同各类主体补齐新模式短板</strong></p><p>\\u3000\\u3000蔬菜产业发展一头是“脚上沾泥”的生产者，另一头是追求性价比的消费者。</p><p>\\u3000\\u3000中国农业科学院农产品加工研究所所长王凤忠在电商平台上做了关于农产品购买的小调研。他提出，新模式在成长过程中，自然会产生一些新问题，比如非标化、流通损耗等。那么在这一过程里，蔬菜生产、流通全供应链上的各方主体有必要协同补足标准化、冷链等短板。</p><p>\\u3000\\u3000“在仓储、物流过程中，如何保证最后一公里的配送，保证食物品质及质量安全，是目前蔬菜流通领域面临的问题之一。”中国农业大学食品学院原院长、特殊食品研究中心主任罗云波说。对此，国家发改委农村经济司原司长高俊才建议，在新基建的大形势下，政府和企业要共同努力，抓好、做强冷链物流建设。</p><p>\\u3000\\u3000中国农业科学院蔬菜花卉研究所研究员刘富中也建议，在把农村蔬菜销往城市的过程中，可以通过建设绿色生产方式、绿色溯源系统解决当前部分问题，电商平台等流通体系的主体，可与农业农村部的标准化生产基地、优质农产品基地、出口农产品基地进行对接，让消费者吃到放心菜、优质菜。同时，农业农村部食物与营养发展研究所植物食物与营养政策研究中心负责人黄家章也建议，电商平台要明确准入门槛，引导蔬菜产业优质化、营养化。</p>'}\n",
    "response = requests.post(url + \"/nlp/getKeywords\", data = data)\n",
    "response.json()"
   ],
   "metadata": {
    "collapsed": false,
    "pycharm": {
     "name": "#%%\n"
    }
   }
  },
  {
   "cell_type": "code",
   "execution_count": 35,
   "metadata": {},
   "outputs": [
    {
     "name": "stdout",
     "output_type": "stream",
     "text": [
      "{'description': 'success', 'moreMsg': [{'rssId': 1, 'rsslink': 'https://rss.injahow.cn/zhihu/people/activities/li-xi-mo-66', 'rsstitle': 'zhihu/people/activities/li-xi-mo-66'}], 'state': 'success'}\n",
      "{'description': 'success', 'moreMsg': [{'rssId': 2, 'rsslink': 'https://rss.injahow.cn/zhihu/hotlist', 'rsstitle': 'zhihu/hotlist'}], 'state': 'success'}\n",
      "{'description': 'success', 'moreMsg': [{'rssId': 3, 'rsslink': 'https://rss.injahow.cn/weibo/user/1157864602', 'rsstitle': 'weibo/user/1157864602'}], 'state': 'success'}\n",
      "{'description': 'success', 'moreMsg': [{'rssId': 4, 'rsslink': 'https://rss.injahow.cn/weibo/user/1974576991', 'rsstitle': 'weibo/user/1974576991'}], 'state': 'success'}\n",
      "{'description': 'success', 'moreMsg': [{'rssId': 5, 'rsslink': 'https://rss.injahow.cn/people/opinion/223228', 'rsstitle': 'people/opinion/223228'}], 'state': 'success'}\n",
      "{'description': 'success', 'moreMsg': [{'rssId': 6, 'rsslink': 'https://rss.injahow.cn/weibo/user/1263131357', 'rsstitle': 'weibo/user/1263131357'}], 'state': 'success'}\n",
      "{'description': 'success', 'moreMsg': [{'rssId': 7, 'rsslink': 'https://rss.injahow.cn/weibo/user/3936311567', 'rsstitle': 'weibo/user/3936311567'}], 'state': 'success'}\n",
      "{'description': 'success', 'moreMsg': [{'rssId': 8, 'rsslink': 'https://rss.injahow.cn/weibo/user/1664207987', 'rsstitle': 'weibo/user/1664207987'}], 'state': 'success'}\n",
      "{'description': 'success', 'moreMsg': [{'rssId': 9, 'rsslink': 'https://rss.injahow.cn/weibo/user/5649624264', 'rsstitle': 'weibo/user/5649624264'}], 'state': 'success'}\n",
      "{'description': 'success', 'moreMsg': [{'rssId': 10, 'rsslink': 'https://rss.injahow.cn/weibo/user/7264589101', 'rsstitle': 'weibo/user/7264589101'}], 'state': 'success'}\n",
      "{'description': 'success', 'moreMsg': [{'rssId': 11, 'rsslink': 'https://rss.injahow.cn/weibo/user/2822691430', 'rsstitle': 'weibo/user/2822691430'}], 'state': 'success'}\n",
      "{'description': 'success', 'moreMsg': [{'rssId': 12, 'rsslink': 'https://rss.injahow.cn/zhihu/people/activities/warfalcon', 'rsstitle': 'zhihu/people/activities/warfalcon'}], 'state': 'success'}\n",
      "{'description': 'success', 'moreMsg': [{'rssId': 13, 'rsslink': 'https://rss.injahow.cn/weibo/user/1989660417', 'rsstitle': 'weibo/user/1989660417'}], 'state': 'success'}\n",
      "{'description': 'success', 'moreMsg': [{'rssId': 14, 'rsslink': 'https://rss.injahow.cn/zhihu/people/activities/shao-shu-pai-46', 'rsstitle': 'zhihu/people/activities/shao-shu-pai-46'}], 'state': 'success'}\n",
      "{'description': 'success', 'moreMsg': [{'rssId': 15, 'rsslink': 'https://rss.injahow.cn/zhihu/people/activities/mu-rong-chen-xi', 'rsstitle': 'zhihu/people/activities/mu-rong-chen-xi'}], 'state': 'success'}\n",
      "{'description': 'success', 'moreMsg': [{'rssId': 16, 'rsslink': 'https://rss.injahow.cn/zhihu/people/activities/lao-ba-ping-ce', 'rsstitle': 'zhihu/people/activities/lao-ba-ping-ce'}], 'state': 'success'}\n",
      "{'description': 'success', 'moreMsg': [{'rssId': 17, 'rsslink': 'https://rss.injahow.cn/zhihu/people/activities/evenstar', 'rsstitle': 'zhihu/people/activities/evenstar'}], 'state': 'success'}\n",
      "{'description': 'success', 'moreMsg': [{'rssId': 18, 'rsslink': 'https://rss.injahow.cn/zhihu/people/activities/ningnanshan', 'rsstitle': 'zhihu/people/activities/ningnanshan'}], 'state': 'success'}\n",
      "{'description': 'success', 'moreMsg': [{'rssId': 19, 'rsslink': 'https://rss.injahow.cn/zhihu/people/activities/shenggouzi', 'rsstitle': 'zhihu/people/activities/shenggouzi'}], 'state': 'success'}\n"
     ]
    }
   ],
   "source": []
  },
  {
   "cell_type": "code",
   "execution_count": 78,
   "metadata": {},
   "outputs": [
    {
     "data": {
      "text/plain": [
       "{'description': 'success',\n",
       " 'moreMsg': [{'rssId': 2,\n",
       "   'rsslink': 'www.bilibili.com',\n",
       "   'rsstitle': 'bilibili'}],\n",
       " 'state': 'success'}"
      ]
     },
     "execution_count": 78,
     "metadata": {},
     "output_type": "execute_result"
    }
   ],
   "source": [
    "data = {'rsslink':'www.bilibili.com','rsstitle':'bilibili'}\n",
    "response = requests.post(\"http://127.0.0.1:5000/rssdb/addKnownRSS\",data=data)\n",
    "response.json()"
   ]
  },
  {
   "cell_type": "markdown",
   "metadata": {},
   "source": [
    "### removeKnownRSS"
   ]
  },
  {
   "cell_type": "code",
   "execution_count": 79,
   "metadata": {},
   "outputs": [
    {
     "data": {
      "text/plain": [
       "{'description': 'success', 'state': 'success'}"
      ]
     },
     "execution_count": 79,
     "metadata": {},
     "output_type": "execute_result"
    }
   ],
   "source": [
    "data = {'rssId':2}\n",
    "response = requests.post(url+\"/rssdb/removeKnownRSS\",data=data)\n",
    "response.json()"
   ]
  },
  {
   "cell_type": "code",
   "execution_count": null,
   "metadata": {},
   "outputs": [],
   "source": []
  },
  {
   "cell_type": "code",
   "execution_count": null,
   "metadata": {},
   "outputs": [],
   "source": []
  },
  {
   "cell_type": "code",
   "execution_count": 20,
   "metadata": {},
   "outputs": [
    {
     "data": {
      "text/plain": [
       "{'rst': ['记者',\n",
       "  '马爱平',\n",
       "  '菜篮子',\n",
       "  '、',\n",
       "  '米袋子',\n",
       "  '是',\n",
       "  '关乎',\n",
       "  '国计民生',\n",
       "  '的',\n",
       "  '基础',\n",
       "  '工程',\n",
       "  '，',\n",
       "  '中国',\n",
       "  '是',\n",
       "  '蔬菜',\n",
       "  '生产',\n",
       "  '大国',\n",
       "  '，',\n",
       "  '同时',\n",
       "  '也',\n",
       "  '是',\n",
       "  '蔬菜',\n",
       "  '消费',\n",
       "  '大国',\n",
       "  '。',\n",
       "  '11',\n",
       "  '月',\n",
       "  '22',\n",
       "  '日',\n",
       "  '，',\n",
       "  '在',\n",
       "  '“',\n",
       "  '线上',\n",
       "  '菜篮子',\n",
       "  '·',\n",
       "  '中国',\n",
       "  '优质',\n",
       "  '蔬菜',\n",
       "  '产业',\n",
       "  '发展',\n",
       "  '”',\n",
       "  '研讨会',\n",
       "  '上',\n",
       "  '，',\n",
       "  '农业',\n",
       "  '农村部',\n",
       "  '乡村',\n",
       "  '振兴',\n",
       "  '专家',\n",
       "  '咨询',\n",
       "  '委',\n",
       "  '委员',\n",
       "  '、',\n",
       "  '原',\n",
       "  '农业部',\n",
       "  '常务副',\n",
       "  '部长',\n",
       "  '尹成杰',\n",
       "  '认为',\n",
       "  '，',\n",
       "  '将',\n",
       "  '蔬菜',\n",
       "  '的',\n",
       "  '线下',\n",
       "  '生产',\n",
       "  '与',\n",
       "  '线',\n",
       "  '上',\n",
       "  '菜篮子',\n",
       "  '发展',\n",
       "  '相结合',\n",
       "  '，',\n",
       "  '是',\n",
       "  '现代',\n",
       "  '农产品',\n",
       "  '流通',\n",
       "  '体系',\n",
       "  '里',\n",
       "  '的',\n",
       "  '一种',\n",
       "  '重要',\n",
       "  '形式',\n",
       "  '，',\n",
       "  '通过',\n",
       "  '线上',\n",
       "  '形式',\n",
       "  '把',\n",
       "  '蔬菜',\n",
       "  '快捷',\n",
       "  '、',\n",
       "  '高效',\n",
       "  '、',\n",
       "  '安全',\n",
       "  '地',\n",
       "  '送到',\n",
       "  '消费者',\n",
       "  '手中',\n",
       "  '，',\n",
       "  '是',\n",
       "  '一种',\n",
       "  '流通',\n",
       "  '新',\n",
       "  '业态',\n",
       "  '，',\n",
       "  '同时',\n",
       "  '可以',\n",
       "  '带动',\n",
       "  '乡村',\n",
       "  '劳动力',\n",
       "  '就业',\n",
       "  '、',\n",
       "  '助力',\n",
       "  '乡村',\n",
       "  '振兴',\n",
       "  '和',\n",
       "  '城乡经济',\n",
       "  '融合',\n",
       "  '一体化',\n",
       "  '。',\n",
       "  '线',\n",
       "  '上线',\n",
       "  '下会',\n",
       "  '撞',\n",
       "  '出',\n",
       "  '怎样',\n",
       "  '的',\n",
       "  '火花',\n",
       "  '“',\n",
       "  '电商',\n",
       "  '平台',\n",
       "  '，',\n",
       "  '利用',\n",
       "  '现代',\n",
       "  '信息技术',\n",
       "  '，',\n",
       "  '加快',\n",
       "  '建立',\n",
       "  '农产品',\n",
       "  '现代化',\n",
       "  '营销',\n",
       "  '体系',\n",
       "  '，',\n",
       "  '以新',\n",
       "  '模式',\n",
       "  '、',\n",
       "  '新',\n",
       "  '业态',\n",
       "  '和',\n",
       "  '新',\n",
       "  '经验',\n",
       "  '把',\n",
       "  '生产者',\n",
       "  '和',\n",
       "  '消费者',\n",
       "  '连接',\n",
       "  '在',\n",
       "  '一起',\n",
       "  '，',\n",
       "  '带动',\n",
       "  '蔬菜',\n",
       "  '生产',\n",
       "  '和',\n",
       "  '产业',\n",
       "  '发展',\n",
       "  '，',\n",
       "  '在',\n",
       "  '扶贫',\n",
       "  '攻坚',\n",
       "  '、',\n",
       "  '乡村',\n",
       "  '振兴',\n",
       "  '，',\n",
       "  '农业',\n",
       "  '农村',\n",
       "  '现代化',\n",
       "  '建设',\n",
       "  '上',\n",
       "  '发挥',\n",
       "  '了',\n",
       "  '很',\n",
       "  '好',\n",
       "  '的',\n",
       "  '作用',\n",
       "  '。',\n",
       "  '”',\n",
       "  '尹成杰',\n",
       "  '说',\n",
       "  '。',\n",
       "  '山东省',\n",
       "  '寿光市',\n",
       "  '被誉为',\n",
       "  '中国',\n",
       "  '“',\n",
       "  '蔬菜',\n",
       "  '之',\n",
       "  '乡',\n",
       "  '”',\n",
       "  '。',\n",
       "  '寿光',\n",
       "  '市委',\n",
       "  '副',\n",
       "  '书记',\n",
       "  '李',\n",
       "  '永光',\n",
       "  '说',\n",
       "  '，',\n",
       "  '寿光',\n",
       "  '蔬菜',\n",
       "  '目前',\n",
       "  '拥有',\n",
       "  '16',\n",
       "  '个',\n",
       "  '国家',\n",
       "  '地理',\n",
       "  '标志',\n",
       "  '产品',\n",
       "  '，',\n",
       "  '定期',\n",
       "  '发布',\n",
       "  '中国',\n",
       "  '寿光',\n",
       "  '蔬菜',\n",
       "  '价格指数',\n",
       "  '，',\n",
       "  '蔬菜',\n",
       "  '品牌',\n",
       "  '发展',\n",
       "  '水平',\n",
       "  '处于',\n",
       "  '全国',\n",
       "  '领先地位',\n",
       "  '。',\n",
       "  '近年来',\n",
       "  '更',\n",
       "  '专注',\n",
       "  '于',\n",
       "  '蔬菜',\n",
       "  '产业',\n",
       "  '与',\n",
       "  '电商',\n",
       "  '的',\n",
       "  '深度',\n",
       "  '融合',\n",
       "  '发展',\n",
       "  '，',\n",
       "  '与',\n",
       "  '拼',\n",
       "  '多多',\n",
       "  '联合',\n",
       "  '启动',\n",
       "  '“',\n",
       "  '线',\n",
       "  '上菜',\n",
       "  '博会',\n",
       "  '”',\n",
       "  '，',\n",
       "  '在',\n",
       "  '拼',\n",
       "  '多多',\n",
       "  '上线',\n",
       "  '寿光',\n",
       "  '蔬菜',\n",
       "  '馆',\n",
       "  '，',\n",
       "  '还',\n",
       "  '与',\n",
       "  '多多',\n",
       "  '大学',\n",
       "  '签约',\n",
       "  '，',\n",
       "  '加速',\n",
       "  '培育',\n",
       "  '蔬菜',\n",
       "  '电商',\n",
       "  '人才',\n",
       "  '。',\n",
       "  '“',\n",
       "  '将',\n",
       "  '新',\n",
       "  '电商',\n",
       "  '的',\n",
       "  '新',\n",
       "  '技术',\n",
       "  '、',\n",
       "  '新',\n",
       "  '逻辑',\n",
       "  '、',\n",
       "  '新',\n",
       "  '业态',\n",
       "  '带到',\n",
       "  '中国',\n",
       "  '广大',\n",
       "  '乡村',\n",
       "  '的',\n",
       "  '田间',\n",
       "  '地头',\n",
       "  '，',\n",
       "  '能够',\n",
       "  '有力',\n",
       "  '助力',\n",
       "  '脱贫',\n",
       "  '攻坚',\n",
       "  '接续',\n",
       "  '乡村',\n",
       "  '振兴',\n",
       "  '。',\n",
       "  '”',\n",
       "  '拼',\n",
       "  '多多',\n",
       "  '副总裁',\n",
       "  '狄拉克',\n",
       "  '说',\n",
       "  '。',\n",
       "  '农业',\n",
       "  '农村部',\n",
       "  '农产品',\n",
       "  '质量',\n",
       "  '安全',\n",
       "  '中心',\n",
       "  '首席专家',\n",
       "  '李清泽',\n",
       "  '认为',\n",
       "  '，',\n",
       "  '山东',\n",
       "  '寿光',\n",
       "  '等',\n",
       "  '国内',\n",
       "  '蔬菜',\n",
       "  '优势',\n",
       "  '产区',\n",
       "  '与',\n",
       "  '第一',\n",
       "  '大',\n",
       "  '农产品',\n",
       "  '上行',\n",
       "  '平台',\n",
       "  '拼',\n",
       "  '多多',\n",
       "  '，',\n",
       "  '可',\n",
       "  '运用',\n",
       "  '现代化',\n",
       "  '信息技术',\n",
       "  '手段',\n",
       "  '，',\n",
       "  '加强',\n",
       "  '产品',\n",
       "  '标准化',\n",
       "  '、',\n",
       "  '品牌化',\n",
       "  '的',\n",
       "  '建设',\n",
       "  '，',\n",
       "  '“',\n",
       "  '单品',\n",
       "  '驱动',\n",
       "  '、',\n",
       "  '年',\n",
       "  '年',\n",
       "  '滚动',\n",
       "  '、',\n",
       "  '各方',\n",
       "  '联动',\n",
       "  '”',\n",
       "  '，',\n",
       "  '走出',\n",
       "  '一条线',\n",
       "  '上线',\n",
       "  '下',\n",
       "  '融合',\n",
       "  '的',\n",
       "  '新',\n",
       "  '路径',\n",
       "  '。',\n",
       "  '中国',\n",
       "  '农村',\n",
       "  '专业',\n",
       "  '技术',\n",
       "  '协会',\n",
       "  '理事长',\n",
       "  '、',\n",
       "  '中国农业大学',\n",
       "  '原',\n",
       "  '校长',\n",
       "  '柯炳生',\n",
       "  '建议',\n",
       "  '，',\n",
       "  '电商',\n",
       "  '平台',\n",
       "  '可',\n",
       "  '从',\n",
       "  '蔬菜',\n",
       "  '需求',\n",
       "  '特点',\n",
       "  '、',\n",
       "  '蔬菜',\n",
       "  '流通',\n",
       "  '要素',\n",
       "  '出发',\n",
       "  '，',\n",
       "  '结合',\n",
       "  '网络',\n",
       "  '追溯',\n",
       "  '机制',\n",
       "  '、',\n",
       "  '消费者',\n",
       "  '画像',\n",
       "  '等',\n",
       "  '现代',\n",
       "  '信息技术',\n",
       "  '手段',\n",
       "  '，',\n",
       "  '解决',\n",
       "  '人民',\n",
       "  '群众',\n",
       "  '需求',\n",
       "  '与',\n",
       "  '蔬菜',\n",
       "  '产区',\n",
       "  '供需',\n",
       "  '不',\n",
       "  '平衡',\n",
       "  '、',\n",
       "  '流通',\n",
       "  '环节',\n",
       "  '质量',\n",
       "  '损耗',\n",
       "  '及',\n",
       "  '由于',\n",
       "  '生产',\n",
       "  '要素',\n",
       "  '不',\n",
       "  '稳定',\n",
       "  '产生',\n",
       "  '的',\n",
       "  '标准化',\n",
       "  '问题',\n",
       "  '等',\n",
       "  '。',\n",
       "  '协同',\n",
       "  '各类',\n",
       "  '主体',\n",
       "  '补齐',\n",
       "  '新',\n",
       "  '模式',\n",
       "  '短板',\n",
       "  '蔬菜',\n",
       "  '产业',\n",
       "  '发展',\n",
       "  '一头',\n",
       "  '是',\n",
       "  '“',\n",
       "  '脚',\n",
       "  '上',\n",
       "  '沾泥',\n",
       "  '”',\n",
       "  '的',\n",
       "  '生产者',\n",
       "  '，',\n",
       "  '另一头',\n",
       "  '是',\n",
       "  '追求',\n",
       "  '性价比',\n",
       "  '的',\n",
       "  '消费者',\n",
       "  '。',\n",
       "  '中国农业科学院',\n",
       "  '农产品',\n",
       "  '加工',\n",
       "  '研究所',\n",
       "  '所长',\n",
       "  '王凤忠',\n",
       "  '在',\n",
       "  '电商',\n",
       "  '平台',\n",
       "  '上',\n",
       "  '做',\n",
       "  '了',\n",
       "  '关于',\n",
       "  '农产品',\n",
       "  '购买',\n",
       "  '的',\n",
       "  '小',\n",
       "  '调研',\n",
       "  '。',\n",
       "  '他',\n",
       "  '提出',\n",
       "  '，',\n",
       "  '新',\n",
       "  '模式',\n",
       "  '在',\n",
       "  '成长',\n",
       "  '过程',\n",
       "  '中',\n",
       "  '，',\n",
       "  '自然',\n",
       "  '会',\n",
       "  '产生',\n",
       "  '一些',\n",
       "  '新',\n",
       "  '问题',\n",
       "  '，',\n",
       "  '比如',\n",
       "  '非标',\n",
       "  '化',\n",
       "  '、',\n",
       "  '流通',\n",
       "  '损耗',\n",
       "  '等',\n",
       "  '。',\n",
       "  '那么',\n",
       "  '在',\n",
       "  '这',\n",
       "  '一',\n",
       "  '过程',\n",
       "  '里',\n",
       "  '，',\n",
       "  '蔬菜',\n",
       "  '生产',\n",
       "  '、',\n",
       "  '流通',\n",
       "  '全',\n",
       "  '供应链',\n",
       "  '上',\n",
       "  '的',\n",
       "  '各方',\n",
       "  '主体',\n",
       "  '有',\n",
       "  '必要',\n",
       "  '协同',\n",
       "  '补足',\n",
       "  '标准化',\n",
       "  '、',\n",
       "  '冷链',\n",
       "  '等',\n",
       "  '短板',\n",
       "  '。',\n",
       "  '“',\n",
       "  '在',\n",
       "  '仓储',\n",
       "  '、',\n",
       "  '物流',\n",
       "  '过程',\n",
       "  '中',\n",
       "  '，',\n",
       "  '如何',\n",
       "  '保证',\n",
       "  '最后',\n",
       "  '一',\n",
       "  '公里',\n",
       "  '的',\n",
       "  '配送',\n",
       "  '，',\n",
       "  '保证',\n",
       "  '食物',\n",
       "  '品质',\n",
       "  '及',\n",
       "  '质量',\n",
       "  '安全',\n",
       "  '，',\n",
       "  '是',\n",
       "  '目前',\n",
       "  '蔬菜',\n",
       "  '流通领域',\n",
       "  '面临',\n",
       "  '的',\n",
       "  '问题',\n",
       "  '之一',\n",
       "  '。',\n",
       "  '”',\n",
       "  '中国农业大学',\n",
       "  '食品',\n",
       "  '学院',\n",
       "  '原',\n",
       "  '院长',\n",
       "  '、',\n",
       "  '特殊',\n",
       "  '食品',\n",
       "  '研究',\n",
       "  '中心',\n",
       "  '主任',\n",
       "  '罗云波',\n",
       "  '说',\n",
       "  '。',\n",
       "  '对此',\n",
       "  '，',\n",
       "  '国家',\n",
       "  '发改委',\n",
       "  '农村',\n",
       "  '经济',\n",
       "  '司原',\n",
       "  '司长',\n",
       "  '高俊才',\n",
       "  '建议',\n",
       "  '，',\n",
       "  '在',\n",
       "  '新',\n",
       "  '基建',\n",
       "  '的',\n",
       "  '大',\n",
       "  '形势',\n",
       "  '下',\n",
       "  '，',\n",
       "  '政府',\n",
       "  '和',\n",
       "  '企业',\n",
       "  '要',\n",
       "  '共同努力',\n",
       "  '，',\n",
       "  '抓好',\n",
       "  '、',\n",
       "  '做强',\n",
       "  '冷链',\n",
       "  '物流',\n",
       "  '建设',\n",
       "  '。',\n",
       "  '中国农业科学院',\n",
       "  '蔬菜',\n",
       "  '花卉',\n",
       "  '研究所',\n",
       "  '研究员',\n",
       "  '刘富',\n",
       "  '中',\n",
       "  '也',\n",
       "  '建议',\n",
       "  '，',\n",
       "  '在',\n",
       "  '把',\n",
       "  '农村',\n",
       "  '蔬菜',\n",
       "  '销往',\n",
       "  '城市',\n",
       "  '的',\n",
       "  '过程',\n",
       "  '中',\n",
       "  '，',\n",
       "  '可以',\n",
       "  '通过',\n",
       "  '建设',\n",
       "  '绿色',\n",
       "  '生产方式',\n",
       "  '、',\n",
       "  '绿色',\n",
       "  '溯源',\n",
       "  '系统',\n",
       "  '解决',\n",
       "  '当前',\n",
       "  '部分',\n",
       "  '问题',\n",
       "  '，',\n",
       "  '电商',\n",
       "  '平台',\n",
       "  '等',\n",
       "  '流通',\n",
       "  '体系',\n",
       "  '的',\n",
       "  '主体',\n",
       "  '，',\n",
       "  '可',\n",
       "  '与',\n",
       "  '农业',\n",
       "  '农村部',\n",
       "  '的',\n",
       "  '标准化',\n",
       "  '生产',\n",
       "  '基地',\n",
       "  '、',\n",
       "  '优质',\n",
       "  '农产品',\n",
       "  '基地',\n",
       "  '、',\n",
       "  '出口',\n",
       "  '农产品',\n",
       "  '基地',\n",
       "  '进行',\n",
       "  '对接',\n",
       "  '，',\n",
       "  '让',\n",
       "  '消费者',\n",
       "  '吃',\n",
       "  '到',\n",
       "  '放心',\n",
       "  '菜',\n",
       "  '、',\n",
       "  '优质',\n",
       "  '菜',\n",
       "  '。',\n",
       "  '同时',\n",
       "  '，',\n",
       "  '农业',\n",
       "  '农村部',\n",
       "  '食物',\n",
       "  '与',\n",
       "  '营养',\n",
       "  '发展',\n",
       "  '研究所',\n",
       "  '植物',\n",
       "  '食物',\n",
       "  '与',\n",
       "  '营养',\n",
       "  '政策',\n",
       "  '研究',\n",
       "  '中心',\n",
       "  '负责人',\n",
       "  '黄家',\n",
       "  '章',\n",
       "  '也',\n",
       "  '建议',\n",
       "  '，',\n",
       "  '电商',\n",
       "  '平台',\n",
       "  '要',\n",
       "  '明确',\n",
       "  '准入',\n",
       "  '门槛',\n",
       "  '，',\n",
       "  '引导',\n",
       "  '蔬菜',\n",
       "  '产业',\n",
       "  '优质化',\n",
       "  '、',\n",
       "  '营养',\n",
       "  '化',\n",
       "  '。'],\n",
       " 'state': 'success'}"
      ]
     },
     "execution_count": 20,
     "metadata": {},
     "output_type": "execute_result"
    }
   ],
   "source": [
    "import requests\n",
    "data = {'txt':'<p>\\u3000\\u3000记者 马爱平</p><p>\\u3000\\u3000菜篮子、米袋子是关乎国计民生的基础工程，中国是蔬菜生产大国，同时也是蔬菜消费大国。</p><p>\\u3000\\u300011月22日，在“线上菜篮子·中国优质蔬菜产业发展”研讨会上，农业农村部乡村振兴专家咨询委委员、原农业部常务副部长尹成杰认为，将蔬菜的线下生产与线上菜篮子发展相结合，是现代农产品流通体系里的一种重要形式，通过线上形式把蔬菜快捷、高效、安全地送到消费者手中，是一种流通新业态，同时可以带动乡村劳动力就业、助力乡村振兴和城乡经济融合一体化。</p><p>\\u3000\\u3000<strong>线上线下会撞出怎样的火花</strong></p><p>\\u3000\\u3000“电商平台，利用现代信息技术，加快建立农产品现代化营销体系，以新模式、新业态和新经验把生产者和消费者连接在一起，带动蔬菜生产和产业发展，在扶贫攻坚、乡村振兴，农业农村现代化建设上发挥了很好的作用。”尹成杰说。</p><p>\\u3000\\u3000山东省寿光市被誉为中国“蔬菜之乡”。寿光市委副书记李永光说，寿光蔬菜目前拥有16个国家地理标志产品，定期发布中国寿光蔬菜价格指数，蔬菜品牌发展水平处于全国领先地位。近年来更专注于蔬菜产业与电商的深度融合发展，与拼多多联合启动“线上菜博会”，在拼多多上线寿光蔬菜馆，还与多多大学签约，加速培育蔬菜电商人才。</p><p>\\u3000\\u3000“将新电商的新技术、新逻辑、新业态带到中国广大乡村的田间地头，能够有力助力脱贫攻坚接续乡村振兴。”拼多多副总裁狄拉克说。</p><p>\\u3000\\u3000农业农村部农产品质量安全中心首席专家李清泽认为，山东寿光等国内蔬菜优势产区与第一大农产品上行平台拼多多，可运用现代化信息技术手段，加强产品标准化、品牌化的建设，“单品驱动、年年滚动、各方联动”，走出一条线上线下融合的新路径。</p><p>\\u3000\\u3000中国农村专业技术协会理事长、中国农业大学原校长柯炳生建议，电商平台可从蔬菜需求特点、蔬菜流通要素出发，结合网络追溯机制、消费者画像等现代信息技术手段，解决人民群众需求与蔬菜产区供需不平衡、流通环节质量损耗及由于生产要素不稳定产生的标准化问题等。</p><p>\\u3000<strong>\\u3000协同各类主体补齐新模式短板</strong></p><p>\\u3000\\u3000蔬菜产业发展一头是“脚上沾泥”的生产者，另一头是追求性价比的消费者。</p><p>\\u3000\\u3000中国农业科学院农产品加工研究所所长王凤忠在电商平台上做了关于农产品购买的小调研。他提出，新模式在成长过程中，自然会产生一些新问题，比如非标化、流通损耗等。那么在这一过程里，蔬菜生产、流通全供应链上的各方主体有必要协同补足标准化、冷链等短板。</p><p>\\u3000\\u3000“在仓储、物流过程中，如何保证最后一公里的配送，保证食物品质及质量安全，是目前蔬菜流通领域面临的问题之一。”中国农业大学食品学院原院长、特殊食品研究中心主任罗云波说。对此，国家发改委农村经济司原司长高俊才建议，在新基建的大形势下，政府和企业要共同努力，抓好、做强冷链物流建设。</p><p>\\u3000\\u3000中国农业科学院蔬菜花卉研究所研究员刘富中也建议，在把农村蔬菜销往城市的过程中，可以通过建设绿色生产方式、绿色溯源系统解决当前部分问题，电商平台等流通体系的主体，可与农业农村部的标准化生产基地、优质农产品基地、出口农产品基地进行对接，让消费者吃到放心菜、优质菜。同时，农业农村部食物与营养发展研究所植物食物与营养政策研究中心负责人黄家章也建议，电商平台要明确准入门槛，引导蔬菜产业优质化、营养化。</p>'}\n",
    "response = requests.post(url + \"/nlp/tokenizer\", data = data)\n",
    "response.json()"
   ]
  },
  {
   "cell_type": "code",
   "execution_count": 25,
   "metadata": {},
   "outputs": [
    {
     "data": {
      "text/plain": [
       "{'rst': ['蔬菜',\n",
       "  '中国',\n",
       "  '电商',\n",
       "  '农产品',\n",
       "  '平台',\n",
       "  '乡村',\n",
       "  '寿光',\n",
       "  '建议',\n",
       "  '农村',\n",
       "  '消费者',\n",
       "  '研究所',\n",
       "  '农业',\n",
       "  '产业',\n",
       "  '营养',\n",
       "  '农村部',\n",
       "  '中国农业大学',\n",
       "  '问题',\n",
       "  '信息技术',\n",
       "  '食物',\n",
       "  '中心'],\n",
       " 'state': 'success'}"
      ]
     },
     "execution_count": 25,
     "metadata": {},
     "output_type": "execute_result"
    }
   ],
   "source": [
    "import requests\n",
    "data = {'txt':'<p>\\u3000\\u3000记者 马爱平</p><p>\\u3000\\u3000菜篮子、米袋子是关乎国计民生的基础工程，中国是蔬菜生产大国，同时也是蔬菜消费大国。</p><p>\\u3000\\u300011月22日，在“线上菜篮子·中国优质蔬菜产业发展”研讨会上，农业农村部乡村振兴专家咨询委委员、原农业部常务副部长尹成杰认为，将蔬菜的线下生产与线上菜篮子发展相结合，是现代农产品流通体系里的一种重要形式，通过线上形式把蔬菜快捷、高效、安全地送到消费者手中，是一种流通新业态，同时可以带动乡村劳动力就业、助力乡村振兴和城乡经济融合一体化。</p><p>\\u3000\\u3000<strong>线上线下会撞出怎样的火花</strong></p><p>\\u3000\\u3000“电商平台，利用现代信息技术，加快建立农产品现代化营销体系，以新模式、新业态和新经验把生产者和消费者连接在一起，带动蔬菜生产和产业发展，在扶贫攻坚、乡村振兴，农业农村现代化建设上发挥了很好的作用。”尹成杰说。</p><p>\\u3000\\u3000山东省寿光市被誉为中国“蔬菜之乡”。寿光市委副书记李永光说，寿光蔬菜目前拥有16个国家地理标志产品，定期发布中国寿光蔬菜价格指数，蔬菜品牌发展水平处于全国领先地位。近年来更专注于蔬菜产业与电商的深度融合发展，与拼多多联合启动“线上菜博会”，在拼多多上线寿光蔬菜馆，还与多多大学签约，加速培育蔬菜电商人才。</p><p>\\u3000\\u3000“将新电商的新技术、新逻辑、新业态带到中国广大乡村的田间地头，能够有力助力脱贫攻坚接续乡村振兴。”拼多多副总裁狄拉克说。</p><p>\\u3000\\u3000农业农村部农产品质量安全中心首席专家李清泽认为，山东寿光等国内蔬菜优势产区与第一大农产品上行平台拼多多，可运用现代化信息技术手段，加强产品标准化、品牌化的建设，“单品驱动、年年滚动、各方联动”，走出一条线上线下融合的新路径。</p><p>\\u3000\\u3000中国农村专业技术协会理事长、中国农业大学原校长柯炳生建议，电商平台可从蔬菜需求特点、蔬菜流通要素出发，结合网络追溯机制、消费者画像等现代信息技术手段，解决人民群众需求与蔬菜产区供需不平衡、流通环节质量损耗及由于生产要素不稳定产生的标准化问题等。</p><p>\\u3000<strong>\\u3000协同各类主体补齐新模式短板</strong></p><p>\\u3000\\u3000蔬菜产业发展一头是“脚上沾泥”的生产者，另一头是追求性价比的消费者。</p><p>\\u3000\\u3000中国农业科学院农产品加工研究所所长王凤忠在电商平台上做了关于农产品购买的小调研。他提出，新模式在成长过程中，自然会产生一些新问题，比如非标化、流通损耗等。那么在这一过程里，蔬菜生产、流通全供应链上的各方主体有必要协同补足标准化、冷链等短板。</p><p>\\u3000\\u3000“在仓储、物流过程中，如何保证最后一公里的配送，保证食物品质及质量安全，是目前蔬菜流通领域面临的问题之一。”中国农业大学食品学院原院长、特殊食品研究中心主任罗云波说。对此，国家发改委农村经济司原司长高俊才建议，在新基建的大形势下，政府和企业要共同努力，抓好、做强冷链物流建设。</p><p>\\u3000\\u3000中国农业科学院蔬菜花卉研究所研究员刘富中也建议，在把农村蔬菜销往城市的过程中，可以通过建设绿色生产方式、绿色溯源系统解决当前部分问题，电商平台等流通体系的主体，可与农业农村部的标准化生产基地、优质农产品基地、出口农产品基地进行对接，让消费者吃到放心菜、优质菜。同时，农业农村部食物与营养发展研究所植物食物与营养政策研究中心负责人黄家章也建议，电商平台要明确准入门槛，引导蔬菜产业优质化、营养化。</p>'}\n",
    "response = requests.post(url + \"/nlp/getKeywords\", data = data)\n",
    "response.json()"
   ]
  },
  {
   "cell_type": "code",
   "execution_count": null,
   "metadata": {},
   "outputs": [],
   "source": []
  }
 ],
 "metadata": {
  "kernelspec": {
   "display_name": "Python 3",
   "language": "python",
   "name": "python3"
  },
  "language_info": {
   "codemirror_mode": {
    "name": "ipython",
    "version": 3
   },
   "file_extension": ".py",
   "mimetype": "text/x-python",
   "name": "python",
   "nbconvert_exporter": "python",
   "pygments_lexer": "ipython3",
   "version": "3.6.12"
  }
 },
 "nbformat": 4,
 "nbformat_minor": 4
}