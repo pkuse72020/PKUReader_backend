{
 "cells": [
  {
   "cell_type": "markdown",
   "metadata": {},
   "source": [
    "# rssdb测试"
   ]
  },
  {
   "cell_type": "code",
   "execution_count": 28,
   "metadata": {},
   "outputs": [],
   "source": [
    "import requests"
   ]
  },
  {
   "cell_type": "markdown",
   "metadata": {},
   "source": [
    "### getPendingMsg"
   ]
  },
  {
   "cell_type": "code",
   "execution_count": 33,
   "metadata": {},
   "outputs": [],
   "source": [
    "data = None"
   ]
  },
  {
   "cell_type": "code",
   "execution_count": 64,
   "metadata": {},
   "outputs": [
    {
     "data": {
      "text/plain": [
       "{'rst': [{'_Id': 8,\n",
       "   'checkedByAdministrator': 'None',\n",
       "   'rsslink': 'www.baidu.com',\n",
       "   'rsstitle': 'baidu',\n",
       "   'userId': 'test_user'},\n",
       "  {'_Id': 9,\n",
       "   'checkedByAdministrator': 'None',\n",
       "   'rsslink': 'www.baidu.com',\n",
       "   'rsstitle': 'baidu',\n",
       "   'userId': 'test_user'},\n",
       "  {'_Id': 10,\n",
       "   'checkedByAdministrator': 'None',\n",
       "   'rsslink': 'www.baidu.com',\n",
       "   'rsstitle': 'baidu',\n",
       "   'userId': 'test_user'},\n",
       "  {'_Id': 11,\n",
       "   'checkedByAdministrator': 'None',\n",
       "   'rsslink': 'www.baid1u.com',\n",
       "   'rsstitle': 'baidu1',\n",
       "   'userId': 'test_user1'}],\n",
       " 'state': 'success'}"
      ]
     },
     "execution_count": 64,
     "metadata": {},
     "output_type": "execute_result"
    }
   ],
   "source": [
    "response = requests.post(\"http://127.0.0.1:5000/rssdb/getPendingMsg\")\n",
    "response.json()"
   ]
  },
  {
   "cell_type": "markdown",
   "metadata": {},
   "source": [
    "### addPendingMsg"
   ]
  },
  {
   "cell_type": "code",
   "execution_count": 63,
   "metadata": {},
   "outputs": [
    {
     "data": {
      "text/plain": [
       "{'description': 'success',\n",
       " 'moreMsg': [{'_Id': 11,\n",
       "   'checkedByAdministrator': 'None',\n",
       "   'rsslink': 'www.baid1u.com',\n",
       "   'rsstitle': 'baidu1',\n",
       "   'userId': 'test_user1'}],\n",
       " 'state': 'success'}"
      ]
     },
     "execution_count": 63,
     "metadata": {},
     "output_type": "execute_result"
    }
   ],
   "source": [
    "data = {'userId':'test_user1','rsstitle':'baidu1','rsslink':'www.baid1u.com'}\n",
    "response = requests.post(\"http://127.0.0.1:5000/rssdb/addPendingMsg\",data=data)\n",
    "response.json()"
   ]
  },
  {
   "cell_type": "markdown",
   "metadata": {},
   "source": [
    "### approvePendingMsg"
   ]
  },
  {
   "cell_type": "code",
   "execution_count": 65,
   "metadata": {},
   "outputs": [
    {
     "data": {
      "text/plain": [
       "{'description': 'success',\n",
       " 'moreMsg': [{'rssId': 2, 'rsslink': 'www.baid1u.com', 'rsstitle': 'baidu1'}],\n",
       " 'state': 'success'}"
      ]
     },
     "execution_count": 65,
     "metadata": {},
     "output_type": "execute_result"
    }
   ],
   "source": [
    "data = {'administratorId':'test_admin','pendingMsg_id':11}\n",
    "response = requests.post(\"http://127.0.0.1:5000/rssdb/approvePendingMsg\",data=data)\n",
    "response.json()"
   ]
  },
  {
   "cell_type": "markdown",
   "metadata": {},
   "source": [
    "### rejectPendingMsg"
   ]
  },
  {
   "cell_type": "code",
   "execution_count": 59,
   "metadata": {},
   "outputs": [
    {
     "data": {
      "text/plain": [
       "{'description': 'first query no existed', 'state': 'failed'}"
      ]
     },
     "execution_count": 59,
     "metadata": {},
     "output_type": "execute_result"
    }
   ],
   "source": [
    "data = {'administratorId':'test_admin','pendingMsg_id':7}\n",
    "response = requests.post(\"http://127.0.0.1:5000/rssdb/rejectPendingMsg\",data=data)\n",
    "response.json()"
   ]
  },
  {
   "cell_type": "markdown",
   "metadata": {},
   "source": [
    "### getAllRSS"
   ]
  },
  {
   "cell_type": "code",
   "execution_count": 77,
   "metadata": {},
   "outputs": [
    {
     "data": {
      "text/plain": [
       "{'rst': [{'rssId': 1, 'rsslink': 'www.baidu.com', 'rsstitle': 'baidu'}],\n",
       " 'state': 'success'}"
      ]
     },
     "execution_count": 77,
     "metadata": {},
     "output_type": "execute_result"
    }
   ],
   "source": [
    "data = {}\n",
    "response = requests.post(\"http://127.0.0.1:5000/rssdb/getAllRSS\")\n",
    "response.json()"
   ]
  },
  {
   "cell_type": "markdown",
   "metadata": {},
   "source": [
    "### addKnownRSS"
   ]
  },
  {
   "cell_type": "code",
   "execution_count": 78,
   "metadata": {},
   "outputs": [
    {
     "data": {
      "text/plain": [
       "{'description': 'success',\n",
       " 'moreMsg': [{'rssId': 2,\n",
       "   'rsslink': 'www.bilibili.com',\n",
       "   'rsstitle': 'bilibili'}],\n",
       " 'state': 'success'}"
      ]
     },
     "execution_count": 78,
     "metadata": {},
     "output_type": "execute_result"
    }
   ],
   "source": [
    "data = {'rsslink':'www.bilibili.com','rsstitle':'bilibili'}\n",
    "response = requests.post(\"http://127.0.0.1:5000/rssdb/addKnownRSS\",data=data)\n",
    "response.json()"
   ]
  },
  {
   "cell_type": "markdown",
   "metadata": {},
   "source": [
    "### removeKnownRSS"
   ]
  },
  {
   "cell_type": "code",
   "execution_count": 79,
   "metadata": {},
   "outputs": [
    {
     "data": {
      "text/plain": [
       "{'description': 'success', 'state': 'success'}"
      ]
     },
     "execution_count": 79,
     "metadata": {},
     "output_type": "execute_result"
    }
   ],
   "source": [
    "data = {'rssId':2}\n",
    "response = requests.post(\"http://127.0.0.1:5000/rssdb/removeKnownRSS\",data=data)\n",
    "response.json()"
   ]
  },
  {
   "cell_type": "code",
   "execution_count": null,
   "metadata": {},
   "outputs": [],
   "source": []
  }
 ],
 "metadata": {
  "kernelspec": {
   "display_name": "Python 3",
   "language": "python",
   "name": "python3"
  },
  "language_info": {
   "codemirror_mode": {
    "name": "ipython",
    "version": 3
   },
   "file_extension": ".py",
   "mimetype": "text/x-python",
   "name": "python",
   "nbconvert_exporter": "python",
   "pygments_lexer": "ipython3",
   "version": "3.6.12"
  }
 },
 "nbformat": 4,
 "nbformat_minor": 4
}
