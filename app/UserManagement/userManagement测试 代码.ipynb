{
 "cells": [
  {
   "cell_type": "markdown",
   "metadata": {},
   "source": [
    "# UserManagement 测试"
   ]
  },
  {
   "cell_type": "code",
   "execution_count": 7,
   "metadata": {},
   "outputs": [],
   "source": [
    "import requests\n",
    "import base64\n",
    "\n",
    "host=\"http://39.98.93.128:5000/\""
   ]
  },
  {
   "cell_type": "markdown",
   "metadata": {},
   "source": [
    "### signup"
   ]
  },
  {
   "cell_type": "code",
   "execution_count": 8,
   "metadata": {},
   "outputs": [
    {
     "output_type": "execute_result",
     "data": {
      "text/plain": [
       "{'description': '(sqlite3.IntegrityError) UNIQUE constraint failed: UserInfo.Username',\n",
       " 'state': 'failed'}"
      ]
     },
     "metadata": {},
     "execution_count": 8
    }
   ],
   "source": [
    "# 首次注册成功\n",
    "data = {\"username\":\"gyq\",\"password\":\"123456\"}\n",
    "response = requests.post(host+\"user/signup\",data=data)\n",
    "response.json()"
   ]
  },
  {
   "cell_type": "code",
   "execution_count": 9,
   "metadata": {},
   "outputs": [
    {
     "output_type": "execute_result",
     "data": {
      "text/plain": [
       "{'description': '(sqlite3.IntegrityError) UNIQUE constraint failed: UserInfo.Username',\n",
       " 'state': 'failed'}"
      ]
     },
     "metadata": {},
     "execution_count": 9
    }
   ],
   "source": [
    "# 同一用户重复注册失败\n",
    "data = {\"username\":\"gyq\",\"password\":\"123456\"}\n",
    "response = requests.post(host+\"user/signup\",data=data)\n",
    "response.json()"
   ]
  },
  {
   "cell_type": "markdown",
   "metadata": {},
   "source": [
    "### login-正常逻辑"
   ]
  },
  {
   "cell_type": "code",
   "execution_count": 10,
   "metadata": {},
   "outputs": [
    {
     "output_type": "execute_result",
     "data": {
      "text/plain": [
       "{'UserId': '0765892e-3d34-11eb-a876-00163e0f2f21',\n",
       " 'state': 'success',\n",
       " 'token': 'eyJhbGciOiJIUzUxMiIsImlhdCI6MTYwNzg1ODAzNywiZXhwIjoxNjEwNDUwMDM3fQ.eyIwNzY1ODkyZS0zZDM0LTExZWItYTg3Ni0wMDE2M2UwZjJmMjEiOiJwYmtkZjI6c2hhMjU2OjE1MDAwMCRHMlJpaU5OZSRiZjZmNGQyZDdiM2Y3YWNkYjk5MmY1Mjg2ZTg5ZjEyZTcxZDI4NjE0YzNhMDQ0NmRhOWUwMmI5NjExNmQ2ZWQyIn0.BU8LJotU5mogSQprw2yikDpCHIAC6KPap0ubV6i0E5xcFesK1Gjl6TiS9Zf27AvdM0olUFoSRxX97U1ivDUnmQ'}"
      ]
     },
     "metadata": {},
     "execution_count": 10
    }
   ],
   "source": [
    "data = {\"username\":\"gyq\",\"password\":\"123456\"}\n",
    "response = requests.post(host+\"user/login\",data=data)\n",
    "token=response.json()['token']\n",
    "response.json()\n"
   ]
  },
  {
   "source": [
    "### test_token 有效token"
   ],
   "cell_type": "markdown",
   "metadata": {}
  },
  {
   "cell_type": "code",
   "execution_count": 15,
   "metadata": {},
   "outputs": [
    {
     "output_type": "execute_result",
     "data": {
      "text/plain": [
       "'Unauthorized Access'"
      ]
     },
     "metadata": {},
     "execution_count": 15
    }
   ],
   "source": [
    "headers={\"Authorization\":\"basic \"+base64.b64encode((token+\":\").encode(\"utf-8\")).decode(\"utf-8\")}\n",
    "response = requests.post(host+\"user/token_test\",headers=headers)\n",
    "response.text"
   ]
  },
  {
   "cell_type": "code",
   "execution_count": null,
   "metadata": {},
   "outputs": [],
   "source": [
    "### test_token 无效token"
   ]
  },
  {
   "cell_type": "code",
   "execution_count": null,
   "metadata": {},
   "outputs": [],
   "source": [
    "headers={\"Authorization\":\"basic \"+base64.b64encode((token).encode(\"utf-8\")).decode(\"utf-8\")}\n",
    "response = requests.post(host+\"user/token_test\",headers=headers)\n",
    "response.text"
   ]
  },
  {
   "source": [
    "### login-密码错误"
   ],
   "cell_type": "markdown",
   "metadata": {}
  },
  {
   "cell_type": "code",
   "execution_count": 12,
   "metadata": {},
   "outputs": [
    {
     "output_type": "execute_result",
     "data": {
      "text/plain": [
       "{'description': 'Wrong password.', 'state': 'failed'}"
      ]
     },
     "metadata": {},
     "execution_count": 12
    }
   ],
   "source": [
    "data = {\"username\":\"gyq\",\"password\":\"123\"}\n",
    "response = requests.post(host+\"user/login\",data=data)\n",
    "response.json()"
   ]
  },
  {
   "source": [
    "### login-无此用户"
   ],
   "cell_type": "markdown",
   "metadata": {}
  },
  {
   "cell_type": "code",
   "execution_count": 13,
   "metadata": {},
   "outputs": [
    {
     "output_type": "execute_result",
     "data": {
      "text/plain": [
       "{'description': 'No such user.', 'state': 'failed'}"
      ]
     },
     "metadata": {},
     "execution_count": 13
    }
   ],
   "source": [
    "data = {\"username\":\"gyq111\",\"password\":\"123456\"}\n",
    "response = requests.post(host+\"user/login\",data=data)\n",
    "response.json()"
   ]
  }
 ],
 "metadata": {
  "kernelspec": {
   "display_name": "Python 3",
   "language": "python",
   "name": "python3"
  },
  "language_info": {
   "codemirror_mode": {
    "name": "ipython",
    "version": 3
   },
   "file_extension": ".py",
   "mimetype": "text/x-python",
   "name": "python",
   "nbconvert_exporter": "python",
   "pygments_lexer": "ipython3",
   "version": "3.6.10-final"
  }
 },
 "nbformat": 4,
 "nbformat_minor": 4
}