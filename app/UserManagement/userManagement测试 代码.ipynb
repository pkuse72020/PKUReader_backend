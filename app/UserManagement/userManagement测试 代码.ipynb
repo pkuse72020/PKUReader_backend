{
 "cells": [
  {
   "cell_type": "markdown",
   "metadata": {},
   "source": [
    "# UserManagement 测试"
   ]
  },
  {
   "cell_type": "code",
   "execution_count": 14,
   "metadata": {},
   "outputs": [],
   "source": [
    "import requests\n",
    "import base64\n",
    "\n",
    "host=\"http://39.98.93.128:5000/\""
   ]
  },
  {
   "cell_type": "markdown",
   "metadata": {},
   "source": [
    "### signup"
   ]
  },
  {
   "cell_type": "code",
   "execution_count": 6,
   "metadata": {},
   "outputs": [
    {
     "output_type": "execute_result",
     "data": {
      "text/plain": [
       "{'description': '(sqlite3.IntegrityError) UNIQUE constraint failed: UserInfo.Username',\n",
       " 'state': 'failed'}"
      ]
     },
     "metadata": {},
     "execution_count": 6
    }
   ],
   "source": [
    "data = {\"username\":\"gyq\",\"password\":\"123456\"}\n",
    "response = requests.post(host+\"user/signup\",data=data)\n",
    "response.json()"
   ]
  },
  {
   "cell_type": "markdown",
   "metadata": {},
   "source": [
    "### login-正常逻辑"
   ]
  },
  {
   "cell_type": "code",
   "execution_count": 25,
   "metadata": {},
   "outputs": [
    {
     "output_type": "execute_result",
     "data": {
      "text/plain": [
       "{'UserId': '5ddf63fa-3d03-11eb-a876-00163e0f2f21',\n",
       " 'state': 'success',\n",
       " 'token': 'eyJhbGciOiJIUzUxMiIsImlhdCI6MTYwNzgzNzk4MSwiZXhwIjoxNjEwNDI5OTgxfQ.eyI1ZGRmNjNmYS0zZDAzLTExZWItYTg3Ni0wMDE2M2UwZjJmMjEiOiJwYmtkZjI6c2hhMjU2OjE1MDAwMCRNT0xFZDNLTCQyM2RlZTMzYzFhMzQ4MTZlNWJiYjYyODZhYjc4YjRmZjIzODY0NTJlNDI2MjcxYmY5MjY2NzQ1NDkzNmM1OWIxIn0.SLgsZA9MQQM8n-j9SD1qdRfQmHO-SE8xD-WXl58LU_aFxINMMAABhw2O12BcLC6jiQeEZErhYCJXJW4zlh7yKg'}"
      ]
     },
     "metadata": {},
     "execution_count": 25
    }
   ],
   "source": [
    "data = {\"username\":\"gyq\",\"password\":\"123456\"}\n",
    "response = requests.post(host+\"user/login\",data=data)\n",
    "token=response.json()['token']\n",
    "response.json()\n"
   ]
  },
  {
   "source": [
    "### test_token"
   ],
   "cell_type": "markdown",
   "metadata": {}
  },
  {
   "cell_type": "code",
   "execution_count": 26,
   "metadata": {},
   "outputs": [
    {
     "output_type": "execute_result",
     "data": {
      "text/plain": [
       "'token success'"
      ]
     },
     "metadata": {},
     "execution_count": 26
    }
   ],
   "source": [
    "headers={\"Authorization\":\"basic \"+base64.b64encode((token+\":\").encode(\"utf-8\")).decode(\"utf-8\")}\n",
    "response = requests.post(host+\"user/token_test\",headers=headers)\n",
    "response.text"
   ]
  },
  {
   "source": [
    "### login-密码错误"
   ],
   "cell_type": "markdown",
   "metadata": {}
  },
  {
   "cell_type": "code",
   "execution_count": 8,
   "metadata": {},
   "outputs": [
    {
     "output_type": "execute_result",
     "data": {
      "text/plain": [
       "{'description': 'Wrong password.', 'state': 'failed'}"
      ]
     },
     "metadata": {},
     "execution_count": 8
    }
   ],
   "source": [
    "data = {\"username\":\"gyq\",\"password\":\"123\"}\n",
    "response = requests.post(host+\"user/login\",data=data)\n",
    "response.json()"
   ]
  },
  {
   "source": [
    "### login-无此用户"
   ],
   "cell_type": "markdown",
   "metadata": {}
  },
  {
   "cell_type": "code",
   "execution_count": 9,
   "metadata": {},
   "outputs": [
    {
     "output_type": "execute_result",
     "data": {
      "text/plain": [
       "{'description': 'No such user.', 'state': 'failed'}"
      ]
     },
     "metadata": {},
     "execution_count": 9
    }
   ],
   "source": [
    "data = {\"username\":\"gyq111\",\"password\":\"123456\"}\n",
    "response = requests.post(host+\"user/login\",data=data)\n",
    "response.json()"
   ]
  }
 ],
 "metadata": {
  "kernelspec": {
   "display_name": "Python 3",
   "language": "python",
   "name": "python3"
  },
  "language_info": {
   "codemirror_mode": {
    "name": "ipython",
    "version": 3
   },
   "file_extension": ".py",
   "mimetype": "text/x-python",
   "name": "python",
   "nbconvert_exporter": "python",
   "pygments_lexer": "ipython3",
   "version": "3.6.10-final"
  }
 },
 "nbformat": 4,
 "nbformat_minor": 4
}