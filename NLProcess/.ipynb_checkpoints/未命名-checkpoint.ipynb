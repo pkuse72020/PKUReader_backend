{
 "cells": [
  {
   "cell_type": "code",
   "execution_count": 1,
   "metadata": {},
   "outputs": [],
   "source": [
    "import feedparser"
   ]
  },
  {
   "cell_type": "code",
   "execution_count": 22,
   "metadata": {},
   "outputs": [],
   "source": [
    "url = 'http://127.0.0.1:1200/cctv/tech'\n",
    "# url = 'http://127.0.0.1:1200/aiyanxishe/all'\n",
    "feed = feedparser.parse(url)"
   ]
  },
  {
   "cell_type": "code",
   "execution_count": 23,
   "metadata": {},
   "outputs": [
    {
     "data": {
      "text/plain": [
       "'央视新闻 tech'"
      ]
     },
     "execution_count": 23,
     "metadata": {},
     "output_type": "execute_result"
    }
   ],
   "source": [
    "feed['feed']['title']"
   ]
  },
  {
   "cell_type": "markdown",
   "metadata": {},
   "source": [
    "python去除html标签的几种方法 https://www.cnblogs.com/zhangyafei/p/10285378.html"
   ]
  },
  {
   "cell_type": "code",
   "execution_count": 24,
   "metadata": {},
   "outputs": [],
   "source": [
    "from lxml import etree"
   ]
  },
  {
   "cell_type": "code",
   "execution_count": 25,
   "metadata": {
    "scrolled": true
   },
   "outputs": [
    {
     "name": "stdout",
     "output_type": "stream",
     "text": [
      "https://news.cctv.com/2020/11/29/ARTIS39bBmkuIeDhBsAKWR6T201129.shtml \t 我国科研团队发现双黑洞吞噬恒星罕见天文现象\n",
      "　　新华社合肥11月29日电（记者周畅）记者从安徽师范大学获悉，该校物理与电子信息学院舒新文教授研究小组在一个河外星系中发现了一对互相绕转的超大质量双黑洞吞噬恒星的罕见天文现象。该研究成果近日发表于国际期刊《自然·通讯》。　　据介绍，黑洞潮汐撕裂恒星事件在每个星系中几乎每10万年才发生1次，概率为十万分之一。因此，即便是经过了30多年的研究，天文学家们也仅在少数几个活动的星系中找到了超大质量双黑洞，而能够捕捉到这种天文现象是极为罕见的。　　舒新文教授的研究团队通过分析卫星观测资料，在一个距离地球约26亿光年之遥的星系中成功发现了双黑洞吞噬恒星的观测证据。这是天体物理学家迄今为止在正常星系中发现的第二例超大质量双黑洞绕转系统。　　舒新文表示，如何寻找和探测超大质量双黑洞系统是当今物理学和天文学最重要的前沿问题之一。超大质量双黑洞系统的探测和研究对揭露宇宙中最早期巨型黑洞的成长机制、宇宙引力波现象的产生和变化规律，乃至对宇宙及其基本物理规律的探索都有重要意义。\n"
     ]
    }
   ],
   "source": [
    "for post in feed.entries:\n",
    "    print(post.link,\"\\t\",post.title)\n",
    "#     print(post.summary)\n",
    "    response = etree.HTML(text=post.summary)\n",
    "#     print(dir(response))\n",
    "    print(response.xpath('string(.)'))\n",
    "    break"
   ]
  },
  {
   "cell_type": "code",
   "execution_count": 26,
   "metadata": {
    "scrolled": true
   },
   "outputs": [
    {
     "name": "stdout",
     "output_type": "stream",
     "text": [
      "　　新华社合肥11月29日电（记者周畅）记者从安徽师范大学获悉，该校物理与电子信息学院舒新文教授研究小组在一个河外星系中发现了一对互相绕转的超大质量双黑洞吞噬恒星的罕见天文现象。该研究成果近日发表于国际期刊《自然·通讯》。　　据介绍，黑洞潮汐撕裂恒星事件在每个星系中几乎每10万年才发生1次，概率为十万分之一。因此，即便是经过了30多年的研究，天文学家们也仅在少数几个活动的星系中找到了超大质量双黑洞，而能够捕捉到这种天文现象是极为罕见的。　　舒新文教授的研究团队通过分析卫星观测资料，在一个距离地球约26亿光年之遥的星系中成功发现了双黑洞吞噬恒星的观测证据。这是天体物理学家迄今为止在正常星系中发现的第二例超大质量双黑洞绕转系统。　　舒新文表示，如何寻找和探测超大质量双黑洞系统是当今物理学和天文学最重要的前沿问题之一。超大质量双黑洞系统的探测和研究对揭露宇宙中最早期巨型黑洞的成长机制、宇宙引力波现象的产生和变化规律，乃至对宇宙及其基本物理规律的探索都有重要意义。\n"
     ]
    }
   ],
   "source": [
    "html_txt = feed.entries[0].summary\n",
    "response = etree.HTML(text=html_txt)\n",
    "cleaned_txt = response.xpath('string(.)')\n",
    "print(cleaned_txt)"
   ]
  },
  {
   "cell_type": "code",
   "execution_count": 27,
   "metadata": {},
   "outputs": [],
   "source": [
    "import jieba\n",
    "import jieba.analyse"
   ]
  },
  {
   "cell_type": "code",
   "execution_count": 37,
   "metadata": {
    "scrolled": false
   },
   "outputs": [
    {
     "data": {
      "text/plain": [
       "['黑洞',\n",
       " '超大',\n",
       " '质量',\n",
       " '研究',\n",
       " '宇宙',\n",
       " '系统',\n",
       " '星系',\n",
       " '物理',\n",
       " '现象',\n",
       " '探测',\n",
       " '观测',\n",
       " '教授',\n",
       " '吞噬',\n",
       " '发现',\n",
       " '探索',\n",
       " '学院',\n",
       " '概率',\n",
       " '发生',\n",
       " '引力波',\n",
       " '国际']"
      ]
     },
     "execution_count": 37,
     "metadata": {},
     "output_type": "execute_result"
    }
   ],
   "source": [
    "jieba.analyse.textrank(cleaned_txt, topK=20, withWeight=False, allowPOS=('ns', 'n', 'vn', 'v'))"
   ]
  },
  {
   "cell_type": "code",
   "execution_count": 38,
   "metadata": {},
   "outputs": [
    {
     "data": {
      "text/plain": [
       "['黑洞',\n",
       " '超大',\n",
       " '质量',\n",
       " '研究',\n",
       " '宇宙',\n",
       " '系统',\n",
       " '星系',\n",
       " '物理',\n",
       " '现象',\n",
       " '探测',\n",
       " '观测',\n",
       " '教授',\n",
       " '吞噬',\n",
       " '发现',\n",
       " '探索',\n",
       " '学院',\n",
       " '概率',\n",
       " '发生',\n",
       " '引力波',\n",
       " '国际']"
      ]
     },
     "execution_count": 38,
     "metadata": {},
     "output_type": "execute_result"
    }
   ],
   "source": [
    "jieba.analyse.textrank(cleaned_txt, topK=20, withWeight=False)"
   ]
  },
  {
   "cell_type": "code",
   "execution_count": 40,
   "metadata": {},
   "outputs": [
    {
     "data": {
      "text/plain": [
       "['黑洞',\n",
       " '超大',\n",
       " '舒新文',\n",
       " '星系',\n",
       " '质量',\n",
       " '恒星',\n",
       " '绕转',\n",
       " '宇宙',\n",
       " '吞噬',\n",
       " '研究',\n",
       " '现象',\n",
       " '探测',\n",
       " '天文',\n",
       " '系统',\n",
       " '罕见',\n",
       " '观测',\n",
       " '安徽师范大学',\n",
       " '物理',\n",
       " '发现',\n",
       " '11']"
      ]
     },
     "execution_count": 40,
     "metadata": {},
     "output_type": "execute_result"
    }
   ],
   "source": [
    "jieba.analyse.extract_tags(cleaned_txt, topK=20, withWeight=False)"
   ]
  },
  {
   "cell_type": "code",
   "execution_count": null,
   "metadata": {},
   "outputs": [],
   "source": []
  }
 ],
 "metadata": {
  "kernelspec": {
   "display_name": "Python 3",
   "language": "python",
   "name": "python3"
  },
  "language_info": {
   "codemirror_mode": {
    "name": "ipython",
    "version": 3
   },
   "file_extension": ".py",
   "mimetype": "text/x-python",
   "name": "python",
   "nbconvert_exporter": "python",
   "pygments_lexer": "ipython3",
   "version": "3.6.12"
  }
 },
 "nbformat": 4,
 "nbformat_minor": 4
}
